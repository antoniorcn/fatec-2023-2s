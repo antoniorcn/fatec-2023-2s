{
 "cells": [
  {
   "cell_type": "code",
   "execution_count": 4,
   "id": "d82f66ef",
   "metadata": {},
   "outputs": [
    {
     "name": "stdout",
     "output_type": "stream",
     "text": [
      "Hello World\n"
     ]
    }
   ],
   "source": [
    "texto = \"Hello World\"\n",
    "print(texto)"
   ]
  },
  {
   "cell_type": "code",
   "execution_count": 6,
   "id": "697d12ee",
   "metadata": {},
   "outputs": [
    {
     "name": "stdout",
     "output_type": "stream",
     "text": [
      "Hello World\n",
      "Hello World\n",
      "Hello World\n",
      "Hello World\n",
      "Hello World\n"
     ]
    }
   ],
   "source": [
    "contador = 0\n",
    "while contador < 5:\n",
    "    print(texto)\n",
    "    contador += 1"
   ]
  },
  {
   "cell_type": "code",
   "execution_count": 16,
   "id": "4917fc74",
   "metadata": {},
   "outputs": [
    {
     "name": "stdout",
     "output_type": "stream",
     "text": [
      "O viajante cruzou uma ponte de madeira maciça "
     ]
    }
   ],
   "source": [
    "#          0       1          2        3      4        5     6           7\n",
    "lista = [ 'O', 'viajante', 'cruzou', 'uma', 'ponte', 'de', 'madeira', 'maciça' ]\n",
    "\n",
    "for palavra in lista:\n",
    "    print(palavra, end=\" \")"
   ]
  },
  {
   "cell_type": "code",
   "execution_count": 18,
   "id": "069b0616",
   "metadata": {},
   "outputs": [
    {
     "name": "stdout",
     "output_type": "stream",
     "text": [
      "O\n",
      "viajante\n",
      "cruzou\n",
      "uma\n",
      "ponte\n",
      "de\n",
      "madeira\n",
      "maciça\n"
     ]
    }
   ],
   "source": [
    "for indice in range(0, 8):\n",
    "    print( lista[indice] )"
   ]
  },
  {
   "cell_type": "code",
   "execution_count": 19,
   "id": "51b91f05",
   "metadata": {},
   "outputs": [
    {
     "ename": "IndexError",
     "evalue": "list index out of range",
     "output_type": "error",
     "traceback": [
      "\u001b[1;31m---------------------------------------------------------------------------\u001b[0m",
      "\u001b[1;31mIndexError\u001b[0m                                Traceback (most recent call last)",
      "Cell \u001b[1;32mIn[19], line 1\u001b[0m\n\u001b[1;32m----> 1\u001b[0m \u001b[43mlista\u001b[49m\u001b[43m[\u001b[49m\u001b[38;5;241;43m8\u001b[39;49m\u001b[43m]\u001b[49m\n",
      "\u001b[1;31mIndexError\u001b[0m: list index out of range"
     ]
    }
   ],
   "source": [
    "lista[8]"
   ]
  },
  {
   "cell_type": "code",
   "execution_count": 20,
   "id": "29ea9183",
   "metadata": {},
   "outputs": [],
   "source": [
    "#          0       1          2        3      4        5     6           7\n",
    "lista = [ 'O', 'viajante', 'cruzou', 'uma', 'ponte', 'de', 'madeira', 'maciça' ]"
   ]
  },
  {
   "cell_type": "code",
   "execution_count": 33,
   "id": "c2e31af5",
   "metadata": {},
   "outputs": [],
   "source": [
    "sublista = lista[8:3:-1]"
   ]
  },
  {
   "cell_type": "code",
   "execution_count": 34,
   "id": "8f70f3a2",
   "metadata": {},
   "outputs": [
    {
     "data": {
      "text/plain": [
       "['maciça', 'madeira', 'de', 'ponte']"
      ]
     },
     "execution_count": 34,
     "metadata": {},
     "output_type": "execute_result"
    }
   ],
   "source": [
    "lista[ <inicio - inclusivo> : <termino - exclusivo> : <passo>  ]"
   ]
  },
  {
   "cell_type": "code",
   "execution_count": 41,
   "id": "fbb5f31d",
   "metadata": {},
   "outputs": [
    {
     "data": {
      "text/plain": [
       "['madeira', 'de', 'ponte', 'uma', 'cruzou']"
      ]
     },
     "execution_count": 41,
     "metadata": {},
     "output_type": "execute_result"
    }
   ],
   "source": [
    "lista[6:1]"
   ]
  },
  {
   "cell_type": "code",
   "execution_count": 42,
   "id": "10cd9e57",
   "metadata": {},
   "outputs": [],
   "source": [
    "t = ('Texto1', 'Texto2')"
   ]
  },
  {
   "cell_type": "code",
   "execution_count": 43,
   "id": "727242d1",
   "metadata": {},
   "outputs": [
    {
     "data": {
      "text/plain": [
       "tuple"
      ]
     },
     "execution_count": 43,
     "metadata": {},
     "output_type": "execute_result"
    }
   ],
   "source": [
    "type(t)"
   ]
  },
  {
   "cell_type": "code",
   "execution_count": 44,
   "id": "a12982b3",
   "metadata": {},
   "outputs": [
    {
     "data": {
      "text/plain": [
       "('Texto1', 'Texto2')"
      ]
     },
     "execution_count": 44,
     "metadata": {},
     "output_type": "execute_result"
    }
   ],
   "source": [
    "t[0:2:1]"
   ]
  },
  {
   "cell_type": "code",
   "execution_count": 45,
   "id": "99a84508",
   "metadata": {},
   "outputs": [],
   "source": [
    "lista.append(\"a pé\")"
   ]
  },
  {
   "cell_type": "code",
   "execution_count": 46,
   "id": "f7a92913",
   "metadata": {},
   "outputs": [
    {
     "data": {
      "text/plain": [
       "['O', 'viajante', 'cruzou', 'uma', 'ponte', 'de', 'madeira', 'maciça', 'a pé']"
      ]
     },
     "execution_count": 46,
     "metadata": {},
     "output_type": "execute_result"
    }
   ],
   "source": [
    "lista"
   ]
  },
  {
   "cell_type": "code",
   "execution_count": 47,
   "id": "5d647ea8",
   "metadata": {},
   "outputs": [
    {
     "ename": "AttributeError",
     "evalue": "'tuple' object has no attribute 'append'",
     "output_type": "error",
     "traceback": [
      "\u001b[1;31m---------------------------------------------------------------------------\u001b[0m",
      "\u001b[1;31mAttributeError\u001b[0m                            Traceback (most recent call last)",
      "Cell \u001b[1;32mIn[47], line 1\u001b[0m\n\u001b[1;32m----> 1\u001b[0m \u001b[43mt\u001b[49m\u001b[38;5;241;43m.\u001b[39;49m\u001b[43mappend\u001b[49m(\u001b[38;5;124m\"\u001b[39m\u001b[38;5;124mTexto3\u001b[39m\u001b[38;5;124m\"\u001b[39m)\n",
      "\u001b[1;31mAttributeError\u001b[0m: 'tuple' object has no attribute 'append'"
     ]
    }
   ],
   "source": [
    "t.append(\"Texto3\")"
   ]
  },
  {
   "cell_type": "code",
   "execution_count": 48,
   "id": "91f6a1ed",
   "metadata": {},
   "outputs": [
    {
     "ename": "TypeError",
     "evalue": "'tuple' object does not support item assignment",
     "output_type": "error",
     "traceback": [
      "\u001b[1;31m---------------------------------------------------------------------------\u001b[0m",
      "\u001b[1;31mTypeError\u001b[0m                                 Traceback (most recent call last)",
      "Cell \u001b[1;32mIn[48], line 1\u001b[0m\n\u001b[1;32m----> 1\u001b[0m t[\u001b[38;5;241m0\u001b[39m] \u001b[38;5;241m=\u001b[39m \u001b[38;5;124m\"\u001b[39m\u001b[38;5;124mTexto3\u001b[39m\u001b[38;5;124m\"\u001b[39m\n",
      "\u001b[1;31mTypeError\u001b[0m: 'tuple' object does not support item assignment"
     ]
    }
   ],
   "source": [
    "t[0] = \"Texto3\""
   ]
  },
  {
   "cell_type": "code",
   "execution_count": 51,
   "id": "62e4d430",
   "metadata": {},
   "outputs": [],
   "source": [
    "from string import punctuation"
   ]
  },
  {
   "cell_type": "code",
   "execution_count": 52,
   "id": "6dbb6815",
   "metadata": {},
   "outputs": [
    {
     "data": {
      "text/plain": [
       "'!\"#$%&\\'()*+,-./:;<=>?@[\\\\]^_`{|}~'"
      ]
     },
     "execution_count": 52,
     "metadata": {},
     "output_type": "execute_result"
    }
   ],
   "source": [
    "punctuation"
   ]
  },
  {
   "cell_type": "code",
   "execution_count": null,
   "id": "dd205d65",
   "metadata": {},
   "outputs": [],
   "source": []
  }
 ],
 "metadata": {
  "kernelspec": {
   "display_name": "Python 3 (ipykernel)",
   "language": "python",
   "name": "python3"
  },
  "language_info": {
   "codemirror_mode": {
    "name": "ipython",
    "version": 3
   },
   "file_extension": ".py",
   "mimetype": "text/x-python",
   "name": "python",
   "nbconvert_exporter": "python",
   "pygments_lexer": "ipython3",
   "version": "3.10.9"
  }
 },
 "nbformat": 4,
 "nbformat_minor": 5
}
