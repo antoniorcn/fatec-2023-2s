{
 "cells": [
  {
   "cell_type": "code",
   "execution_count": 1,
   "id": "4699a0e8",
   "metadata": {},
   "outputs": [],
   "source": [
    "import numpy"
   ]
  },
  {
   "cell_type": "code",
   "execution_count": 4,
   "id": "d296db2b",
   "metadata": {},
   "outputs": [],
   "source": [
    "matriz = numpy.array([10.0, 20.0, 30.0, 50.0], numpy.int16)"
   ]
  },
  {
   "cell_type": "code",
   "execution_count": 12,
   "id": "23960cbe",
   "metadata": {},
   "outputs": [
    {
     "name": "stdout",
     "output_type": "stream",
     "text": [
      "10.00\n",
      "20.00\n",
      "30.00\n",
      "50.00\n"
     ]
    }
   ],
   "source": [
    "for numero in matriz:\n",
    "    n = float(numero)\n",
    "    print(f'{n:.2f}')"
   ]
  },
  {
   "cell_type": "code",
   "execution_count": null,
   "id": "209c6bc9",
   "metadata": {},
   "outputs": [],
   "source": []
  }
 ],
 "metadata": {
  "kernelspec": {
   "display_name": "Python 3 (ipykernel)",
   "language": "python",
   "name": "python3"
  },
  "language_info": {
   "codemirror_mode": {
    "name": "ipython",
    "version": 3
   },
   "file_extension": ".py",
   "mimetype": "text/x-python",
   "name": "python",
   "nbconvert_exporter": "python",
   "pygments_lexer": "ipython3",
   "version": "3.10.9"
  }
 },
 "nbformat": 4,
 "nbformat_minor": 5
}
