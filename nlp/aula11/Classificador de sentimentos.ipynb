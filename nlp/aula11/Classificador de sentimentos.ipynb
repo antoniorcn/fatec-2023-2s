{
 "cells": [
  {
   "cell_type": "code",
   "execution_count": 1,
   "id": "0034fa02",
   "metadata": {},
   "outputs": [],
   "source": [
    "import pandas as pd"
   ]
  },
  {
   "cell_type": "code",
   "execution_count": 2,
   "id": "64b16f77",
   "metadata": {},
   "outputs": [],
   "source": [
    "filmes = pd.read_csv(\"../../../dados/imdb-reviews-pt-br.csv\")"
   ]
  },
  {
   "cell_type": "code",
   "execution_count": 11,
   "id": "4f4c46aa",
   "metadata": {},
   "outputs": [],
   "source": [
    "filmes[\"classify\"] = filmes[\"sentiment\"].replace([\"neg\", \"pos\"], [0, 1])"
   ]
  },
  {
   "cell_type": "code",
   "execution_count": 4,
   "id": "dc9e8e8a",
   "metadata": {},
   "outputs": [],
   "source": [
    "# from sklearn.linear_model import LogisticRegression\n",
    "# reg_log = LogisticRegression()"
   ]
  },
  {
   "cell_type": "code",
   "execution_count": 166,
   "id": "ea4a034c",
   "metadata": {},
   "outputs": [],
   "source": [
    "filmes[\"text_minus\"] = filmes[\"text_pt\"].str.lower()"
   ]
  },
  {
   "cell_type": "code",
   "execution_count": 173,
   "id": "516e8c1f",
   "metadata": {},
   "outputs": [],
   "source": [
    "filmes[\"text_no_enter\"] = filmes[\"text_minus\"].replace([\"\\n\", \"\\r\", \"\\t\"], [' ', ' ', ' '])"
   ]
  },
  {
   "cell_type": "code",
   "execution_count": 207,
   "id": "7fd86866",
   "metadata": {},
   "outputs": [],
   "source": [
    "import string\n",
    "mytrans = str.maketrans(\"\", \"\", string.punctuation)\n",
    "filmes[\"text_no_punct\"] = filmes[\"text_no_enter\"].str.translate(mytrans)"
   ]
  },
  {
   "cell_type": "code",
   "execution_count": 299,
   "id": "1be8c90c",
   "metadata": {
    "scrolled": true
   },
   "outputs": [
    {
     "name": "stderr",
     "output_type": "stream",
     "text": [
      "[nltk_data] Downloading package stopwords to\n",
      "[nltk_data]     C:\\Users\\Antonio\\AppData\\Roaming\\nltk_data...\n",
      "[nltk_data]   Package stopwords is already up-to-date!\n"
     ]
    }
   ],
   "source": [
    "import nltk\n",
    "nltk.download('stopwords')\n",
    "stop_words = nltk.corpus.stopwords.words('portuguese')"
   ]
  },
  {
   "cell_type": "code",
   "execution_count": 300,
   "id": "d53f5ebd",
   "metadata": {},
   "outputs": [],
   "source": [
    "palavras_adicionais = ['então', 'apenas', 'história', 'enquanto', 'ainda', 'agora', 'porque']\n",
    "stop_words.extend(palavras_adicionais)\n",
    "stop_words.sort()"
   ]
  },
  {
   "cell_type": "code",
   "execution_count": 302,
   "id": "858d4b6d",
   "metadata": {},
   "outputs": [],
   "source": [
    "def remove_stop_words( texto ): \n",
    "    global stop_words\n",
    "    lista_palavras = texto.split(\" \")\n",
    "    nova_lista = []\n",
    "    for palavra in lista_palavras:\n",
    "        if palavra not in stop_words:\n",
    "            nova_lista.append(palavra)\n",
    "    return \" \".join(nova_lista)"
   ]
  },
  {
   "cell_type": "code",
   "execution_count": 303,
   "id": "ea04aed8",
   "metadata": {},
   "outputs": [],
   "source": [
    "filmes[\"texto_no_stopwords\"] = filmes[\"text_no_punct\"].apply(remove_stop_words)"
   ]
  },
  {
   "cell_type": "code",
   "execution_count": 304,
   "id": "80ebc200",
   "metadata": {},
   "outputs": [],
   "source": [
    "# filmes[\"text_no_punct\"].iloc[0]"
   ]
  },
  {
   "cell_type": "code",
   "execution_count": 305,
   "id": "4e1e6011",
   "metadata": {},
   "outputs": [],
   "source": [
    "# remove_stop_words(filmes[\"text_no_punct\"].iloc[0])"
   ]
  },
  {
   "cell_type": "code",
   "execution_count": 306,
   "id": "b9c9063e",
   "metadata": {},
   "outputs": [],
   "source": [
    "textos = filmes[\"texto_no_stopwords\"]"
   ]
  },
  {
   "cell_type": "code",
   "execution_count": 307,
   "id": "ad9f9419",
   "metadata": {},
   "outputs": [],
   "source": [
    "from sklearn.feature_extraction.text import CountVectorizer\n",
    "vetorizador = CountVectorizer(lowercase=False, max_features=200)\n",
    "bow = vetorizador.fit_transform(textos)\n",
    "vocabulario = vetorizador.get_feature_names_out()\n",
    "bow_matrix = pd.DataFrame.sparse.from_spmatrix(bow, columns=vetorizador.get_feature_names_out())"
   ]
  },
  {
   "cell_type": "code",
   "execution_count": 308,
   "id": "c837d56e",
   "metadata": {},
   "outputs": [],
   "source": [
    "# Separar o DataSet em treinamento e testes"
   ]
  },
  {
   "cell_type": "code",
   "execution_count": 309,
   "id": "e6096fda",
   "metadata": {},
   "outputs": [],
   "source": [
    "# lote_treinamento_size = 25000\n",
    "# filmes_treino = bow[0:lote_treinamento_size]\n",
    "# filmes_treino_classe = filmes[\"classify\"].iloc[0:lote_treinamento_size]\n",
    "# filmes_teste = bow[lote_treinamento_size:49459]\n",
    "# filmes_teste_classe = filmes[\"classify\"].iloc[lote_treinamento_size:49459]"
   ]
  },
  {
   "cell_type": "code",
   "execution_count": 310,
   "id": "227978b3",
   "metadata": {},
   "outputs": [],
   "source": [
    "from sklearn.model_selection import train_test_split\n",
    "filmes_treino, filmes_teste, filmes_treino_classe, filmes_teste_classe = \\\n",
    "train_test_split(bow_matrix, filmes[\"classify\"], random_state=10)"
   ]
  },
  {
   "cell_type": "code",
   "execution_count": 311,
   "id": "3dcf0bf9",
   "metadata": {},
   "outputs": [
    {
     "data": {
      "text/html": [
       "<style>#sk-container-id-29 {color: black;}#sk-container-id-29 pre{padding: 0;}#sk-container-id-29 div.sk-toggleable {background-color: white;}#sk-container-id-29 label.sk-toggleable__label {cursor: pointer;display: block;width: 100%;margin-bottom: 0;padding: 0.3em;box-sizing: border-box;text-align: center;}#sk-container-id-29 label.sk-toggleable__label-arrow:before {content: \"▸\";float: left;margin-right: 0.25em;color: #696969;}#sk-container-id-29 label.sk-toggleable__label-arrow:hover:before {color: black;}#sk-container-id-29 div.sk-estimator:hover label.sk-toggleable__label-arrow:before {color: black;}#sk-container-id-29 div.sk-toggleable__content {max-height: 0;max-width: 0;overflow: hidden;text-align: left;background-color: #f0f8ff;}#sk-container-id-29 div.sk-toggleable__content pre {margin: 0.2em;color: black;border-radius: 0.25em;background-color: #f0f8ff;}#sk-container-id-29 input.sk-toggleable__control:checked~div.sk-toggleable__content {max-height: 200px;max-width: 100%;overflow: auto;}#sk-container-id-29 input.sk-toggleable__control:checked~label.sk-toggleable__label-arrow:before {content: \"▾\";}#sk-container-id-29 div.sk-estimator input.sk-toggleable__control:checked~label.sk-toggleable__label {background-color: #d4ebff;}#sk-container-id-29 div.sk-label input.sk-toggleable__control:checked~label.sk-toggleable__label {background-color: #d4ebff;}#sk-container-id-29 input.sk-hidden--visually {border: 0;clip: rect(1px 1px 1px 1px);clip: rect(1px, 1px, 1px, 1px);height: 1px;margin: -1px;overflow: hidden;padding: 0;position: absolute;width: 1px;}#sk-container-id-29 div.sk-estimator {font-family: monospace;background-color: #f0f8ff;border: 1px dotted black;border-radius: 0.25em;box-sizing: border-box;margin-bottom: 0.5em;}#sk-container-id-29 div.sk-estimator:hover {background-color: #d4ebff;}#sk-container-id-29 div.sk-parallel-item::after {content: \"\";width: 100%;border-bottom: 1px solid gray;flex-grow: 1;}#sk-container-id-29 div.sk-label:hover label.sk-toggleable__label {background-color: #d4ebff;}#sk-container-id-29 div.sk-serial::before {content: \"\";position: absolute;border-left: 1px solid gray;box-sizing: border-box;top: 0;bottom: 0;left: 50%;z-index: 0;}#sk-container-id-29 div.sk-serial {display: flex;flex-direction: column;align-items: center;background-color: white;padding-right: 0.2em;padding-left: 0.2em;position: relative;}#sk-container-id-29 div.sk-item {position: relative;z-index: 1;}#sk-container-id-29 div.sk-parallel {display: flex;align-items: stretch;justify-content: center;background-color: white;position: relative;}#sk-container-id-29 div.sk-item::before, #sk-container-id-29 div.sk-parallel-item::before {content: \"\";position: absolute;border-left: 1px solid gray;box-sizing: border-box;top: 0;bottom: 0;left: 50%;z-index: -1;}#sk-container-id-29 div.sk-parallel-item {display: flex;flex-direction: column;z-index: 1;position: relative;background-color: white;}#sk-container-id-29 div.sk-parallel-item:first-child::after {align-self: flex-end;width: 50%;}#sk-container-id-29 div.sk-parallel-item:last-child::after {align-self: flex-start;width: 50%;}#sk-container-id-29 div.sk-parallel-item:only-child::after {width: 0;}#sk-container-id-29 div.sk-dashed-wrapped {border: 1px dashed gray;margin: 0 0.4em 0.5em 0.4em;box-sizing: border-box;padding-bottom: 0.4em;background-color: white;}#sk-container-id-29 div.sk-label label {font-family: monospace;font-weight: bold;display: inline-block;line-height: 1.2em;}#sk-container-id-29 div.sk-label-container {text-align: center;}#sk-container-id-29 div.sk-container {/* jupyter's `normalize.less` sets `[hidden] { display: none; }` but bootstrap.min.css set `[hidden] { display: none !important; }` so we also need the `!important` here to be able to override the default hidden behavior on the sphinx rendered scikit-learn.org. See: https://github.com/scikit-learn/scikit-learn/issues/21755 */display: inline-block !important;position: relative;}#sk-container-id-29 div.sk-text-repr-fallback {display: none;}</style><div id=\"sk-container-id-29\" class=\"sk-top-container\"><div class=\"sk-text-repr-fallback\"><pre>LogisticRegression(solver=&#x27;newton-cholesky&#x27;)</pre><b>In a Jupyter environment, please rerun this cell to show the HTML representation or trust the notebook. <br />On GitHub, the HTML representation is unable to render, please try loading this page with nbviewer.org.</b></div><div class=\"sk-container\" hidden><div class=\"sk-item\"><div class=\"sk-estimator sk-toggleable\"><input class=\"sk-toggleable__control sk-hidden--visually\" id=\"sk-estimator-id-29\" type=\"checkbox\" checked><label for=\"sk-estimator-id-29\" class=\"sk-toggleable__label sk-toggleable__label-arrow\">LogisticRegression</label><div class=\"sk-toggleable__content\"><pre>LogisticRegression(solver=&#x27;newton-cholesky&#x27;)</pre></div></div></div></div></div>"
      ],
      "text/plain": [
       "LogisticRegression(solver='newton-cholesky')"
      ]
     },
     "execution_count": 311,
     "metadata": {},
     "output_type": "execute_result"
    }
   ],
   "source": [
    "from sklearn.linear_model import LogisticRegression\n",
    "reg_log = LogisticRegression(solver=\"newton-cholesky\")\n",
    "reg_log.fit(filmes_treino, filmes_treino_classe)"
   ]
  },
  {
   "cell_type": "code",
   "execution_count": 312,
   "id": "cc50382d",
   "metadata": {},
   "outputs": [
    {
     "data": {
      "text/plain": [
       "0.7767893247068338"
      ]
     },
     "execution_count": 312,
     "metadata": {},
     "output_type": "execute_result"
    }
   ],
   "source": [
    "reg_log.score(filmes_teste, filmes_teste_classe)"
   ]
  },
  {
   "cell_type": "code",
   "execution_count": 276,
   "id": "ab6164f6",
   "metadata": {},
   "outputs": [
    {
     "data": {
      "text/plain": [
       "(200,)"
      ]
     },
     "execution_count": 276,
     "metadata": {},
     "output_type": "execute_result"
    }
   ],
   "source": [
    "vocabulario.shape"
   ]
  },
  {
   "cell_type": "code",
   "execution_count": 277,
   "id": "3430f967",
   "metadata": {},
   "outputs": [],
   "source": [
    "vetorizador_my_words = CountVectorizer(vocabulary = vocabulario, max_features=200)"
   ]
  },
  {
   "cell_type": "code",
   "execution_count": 278,
   "id": "19b06896",
   "metadata": {},
   "outputs": [],
   "source": [
    "meu_bow = vetorizador_my_words.fit_transform([\"pessimo filme, perdi tempo assistindo\"])"
   ]
  },
  {
   "cell_type": "code",
   "execution_count": 279,
   "id": "c56aecdf",
   "metadata": {},
   "outputs": [
    {
     "data": {
      "text/plain": [
       "(1, 200)"
      ]
     },
     "execution_count": 279,
     "metadata": {},
     "output_type": "execute_result"
    }
   ],
   "source": [
    "meu_bow.shape"
   ]
  },
  {
   "cell_type": "code",
   "execution_count": 280,
   "id": "6380ba3a",
   "metadata": {},
   "outputs": [
    {
     "name": "stderr",
     "output_type": "stream",
     "text": [
      "C:\\Users\\Antonio\\anaconda3\\Lib\\site-packages\\sklearn\\base.py:464: UserWarning: X does not have valid feature names, but LogisticRegression was fitted with feature names\n",
      "  warnings.warn(\n"
     ]
    }
   ],
   "source": [
    "resultado = reg_log.predict( meu_bow )"
   ]
  },
  {
   "cell_type": "code",
   "execution_count": 281,
   "id": "753b8774",
   "metadata": {},
   "outputs": [
    {
     "data": {
      "text/plain": [
       "1"
      ]
     },
     "execution_count": 281,
     "metadata": {},
     "output_type": "execute_result"
    }
   ],
   "source": [
    "resultado[0]"
   ]
  },
  {
   "cell_type": "raw",
   "id": "db16fa5d",
   "metadata": {},
   "source": [
    "Treinamento com tamanho 30000 acuracia = 0.5995169330386968"
   ]
  },
  {
   "cell_type": "raw",
   "id": "243c6154",
   "metadata": {},
   "source": [
    "Treinamento com tamanho 35000 acuracia = 0.5995169330386968"
   ]
  },
  {
   "cell_type": "raw",
   "id": "17e946a4",
   "metadata": {},
   "source": [
    "Treinamento com tamanho 25000 acuracia = 0.6637229649617727"
   ]
  },
  {
   "cell_type": "markdown",
   "id": "2f61ded1",
   "metadata": {},
   "source": [
    "### Treinamento com o conjunto de dados selecionados pelo train_test_split"
   ]
  },
  {
   "cell_type": "raw",
   "id": "b7692df1",
   "metadata": {},
   "source": [
    "Textos normais acuracia = 0.6591184795794581"
   ]
  },
  {
   "cell_type": "raw",
   "id": "b5353990",
   "metadata": {},
   "source": [
    "Textos em minusculo acuracia = 0.6610594419733118"
   ]
  },
  {
   "cell_type": "raw",
   "id": "598c2758",
   "metadata": {},
   "source": [
    "Textos em minusculo sem enter acuracia = 0.6610594419733118"
   ]
  },
  {
   "cell_type": "raw",
   "id": "c09e5c3b",
   "metadata": {},
   "source": [
    "Textos em minusculo sem pontuação acuracia = 0.662191670036393"
   ]
  },
  {
   "cell_type": "markdown",
   "id": "7ae63871",
   "metadata": {},
   "source": [
    "### Treinamento com o solver='newton-cholesky'"
   ]
  },
  {
   "cell_type": "raw",
   "id": "ea61aec0",
   "metadata": {},
   "source": [
    "Textos em minusculo sem pontuação acuracia = 0.7723412858875859"
   ]
  },
  {
   "cell_type": "raw",
   "id": "72ce7f02",
   "metadata": {},
   "source": [
    "Textos em minusculo sem stop_words = 0.7812373635260816"
   ]
  }
 ],
 "metadata": {
  "kernelspec": {
   "display_name": "Python 3 (ipykernel)",
   "language": "python",
   "name": "python3"
  },
  "language_info": {
   "codemirror_mode": {
    "name": "ipython",
    "version": 3
   },
   "file_extension": ".py",
   "mimetype": "text/x-python",
   "name": "python",
   "nbconvert_exporter": "python",
   "pygments_lexer": "ipython3",
   "version": "3.11.4"
  }
 },
 "nbformat": 4,
 "nbformat_minor": 5
}
