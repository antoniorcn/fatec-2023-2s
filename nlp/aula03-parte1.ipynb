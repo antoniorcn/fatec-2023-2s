{
 "cells": [
  {
   "cell_type": "code",
   "execution_count": 1,
   "id": "32bbe47b",
   "metadata": {},
   "outputs": [],
   "source": [
    "lista = [0, 3, 6, 9, 12, 15, 18, 21, 24, 27]"
   ]
  },
  {
   "cell_type": "code",
   "execution_count": 21,
   "id": "a8a84529",
   "metadata": {},
   "outputs": [
    {
     "data": {
      "text/plain": [
       "[0, 3, 6]"
      ]
     },
     "execution_count": 21,
     "metadata": {},
     "output_type": "execute_result"
    }
   ],
   "source": [
    "lista[:3]"
   ]
  },
  {
   "cell_type": "code",
   "execution_count": 5,
   "id": "327fc3a4",
   "metadata": {},
   "outputs": [
    {
     "data": {
      "text/plain": [
       "[21, 27]"
      ]
     },
     "execution_count": 5,
     "metadata": {},
     "output_type": "execute_result"
    }
   ],
   "source": [
    "lista[7:10:2]"
   ]
  },
  {
   "cell_type": "code",
   "execution_count": 6,
   "id": "1ab322da",
   "metadata": {},
   "outputs": [
    {
     "data": {
      "text/plain": [
       "0"
      ]
     },
     "execution_count": 6,
     "metadata": {},
     "output_type": "execute_result"
    }
   ],
   "source": [
    "lista[0]"
   ]
  },
  {
   "cell_type": "code",
   "execution_count": 7,
   "id": "b09fdcca",
   "metadata": {},
   "outputs": [
    {
     "data": {
      "text/plain": [
       "3"
      ]
     },
     "execution_count": 7,
     "metadata": {},
     "output_type": "execute_result"
    }
   ],
   "source": [
    "lista[1]"
   ]
  },
  {
   "cell_type": "code",
   "execution_count": 8,
   "id": "80fa7d60",
   "metadata": {},
   "outputs": [
    {
     "data": {
      "text/plain": [
       "27"
      ]
     },
     "execution_count": 8,
     "metadata": {},
     "output_type": "execute_result"
    }
   ],
   "source": [
    "lista[-1]"
   ]
  },
  {
   "cell_type": "code",
   "execution_count": 9,
   "id": "2a2abab5",
   "metadata": {},
   "outputs": [
    {
     "data": {
      "text/plain": [
       "24"
      ]
     },
     "execution_count": 9,
     "metadata": {},
     "output_type": "execute_result"
    }
   ],
   "source": [
    "lista[-2]"
   ]
  },
  {
   "cell_type": "code",
   "execution_count": 10,
   "id": "97115d8b",
   "metadata": {},
   "outputs": [],
   "source": [
    "aluno1 = [4.0, 5.0, 7.0, 6.0]"
   ]
  },
  {
   "cell_type": "code",
   "execution_count": 11,
   "id": "1d8cef88",
   "metadata": {},
   "outputs": [],
   "source": [
    "aluno2 = [3.0, 4.0, 8.0, 5.0]"
   ]
  },
  {
   "cell_type": "code",
   "execution_count": 12,
   "id": "d8b8784e",
   "metadata": {},
   "outputs": [],
   "source": [
    "aluno3 = [7.0, 5.0, 6.0, 6.0]"
   ]
  },
  {
   "cell_type": "code",
   "execution_count": 13,
   "id": "aabf35a6",
   "metadata": {},
   "outputs": [],
   "source": [
    "aluno4 = [6.0, 6.0, 6.0, 7.0]"
   ]
  },
  {
   "cell_type": "code",
   "execution_count": 14,
   "id": "b507d5ea",
   "metadata": {},
   "outputs": [
    {
     "data": {
      "text/plain": [
       "[4.0, 5.0, 7.0, 6.0]"
      ]
     },
     "execution_count": 14,
     "metadata": {},
     "output_type": "execute_result"
    }
   ],
   "source": [
    "aluno1"
   ]
  },
  {
   "cell_type": "code",
   "execution_count": 15,
   "id": "c8188736",
   "metadata": {},
   "outputs": [],
   "source": [
    "alunos = [aluno1, aluno2, aluno3, aluno4]"
   ]
  },
  {
   "cell_type": "code",
   "execution_count": 19,
   "id": "1f9b8997",
   "metadata": {},
   "outputs": [
    {
     "data": {
      "text/plain": [
       "[[4.0, 5.0, 7.0, 6.0],\n",
       " [3.0, 4.0, 8.0, 5.0],\n",
       " [7.0, 5.0, 6.0, 6.0],\n",
       " [6.0, 6.0, 6.0, 7.0]]"
      ]
     },
     "execution_count": 19,
     "metadata": {},
     "output_type": "execute_result"
    }
   ],
   "source": [
    "alunos"
   ]
  },
  {
   "cell_type": "code",
   "execution_count": 18,
   "id": "c4923464",
   "metadata": {},
   "outputs": [
    {
     "data": {
      "text/plain": [
       "6.0"
      ]
     },
     "execution_count": 18,
     "metadata": {},
     "output_type": "execute_result"
    }
   ],
   "source": [
    "alunos[2][3]"
   ]
  },
  {
   "cell_type": "code",
   "execution_count": 20,
   "id": "d4eed1c9",
   "metadata": {},
   "outputs": [
    {
     "data": {
      "text/plain": [
       "[[4.0, 5.0, 7.0, 6.0], [3.0, 4.0, 8.0, 5.0], [7.0, 5.0, 6.0, 6.0]]"
      ]
     },
     "execution_count": 20,
     "metadata": {},
     "output_type": "execute_result"
    }
   ],
   "source": [
    "alunos[:3]"
   ]
  },
  {
   "cell_type": "code",
   "execution_count": 22,
   "id": "1f64f230",
   "metadata": {},
   "outputs": [],
   "source": [
    "numeros = []\n",
    "contador = 0\n",
    "while contador < 100:\n",
    "    numeros.append(contador)\n",
    "    contador = contador + 1"
   ]
  },
  {
   "cell_type": "code",
   "execution_count": 23,
   "id": "4cbacdbc",
   "metadata": {},
   "outputs": [
    {
     "data": {
      "text/plain": [
       "[0,\n",
       " 1,\n",
       " 2,\n",
       " 3,\n",
       " 4,\n",
       " 5,\n",
       " 6,\n",
       " 7,\n",
       " 8,\n",
       " 9,\n",
       " 10,\n",
       " 11,\n",
       " 12,\n",
       " 13,\n",
       " 14,\n",
       " 15,\n",
       " 16,\n",
       " 17,\n",
       " 18,\n",
       " 19,\n",
       " 20,\n",
       " 21,\n",
       " 22,\n",
       " 23,\n",
       " 24,\n",
       " 25,\n",
       " 26,\n",
       " 27,\n",
       " 28,\n",
       " 29,\n",
       " 30,\n",
       " 31,\n",
       " 32,\n",
       " 33,\n",
       " 34,\n",
       " 35,\n",
       " 36,\n",
       " 37,\n",
       " 38,\n",
       " 39,\n",
       " 40,\n",
       " 41,\n",
       " 42,\n",
       " 43,\n",
       " 44,\n",
       " 45,\n",
       " 46,\n",
       " 47,\n",
       " 48,\n",
       " 49,\n",
       " 50,\n",
       " 51,\n",
       " 52,\n",
       " 53,\n",
       " 54,\n",
       " 55,\n",
       " 56,\n",
       " 57,\n",
       " 58,\n",
       " 59,\n",
       " 60,\n",
       " 61,\n",
       " 62,\n",
       " 63,\n",
       " 64,\n",
       " 65,\n",
       " 66,\n",
       " 67,\n",
       " 68,\n",
       " 69,\n",
       " 70,\n",
       " 71,\n",
       " 72,\n",
       " 73,\n",
       " 74,\n",
       " 75,\n",
       " 76,\n",
       " 77,\n",
       " 78,\n",
       " 79,\n",
       " 80,\n",
       " 81,\n",
       " 82,\n",
       " 83,\n",
       " 84,\n",
       " 85,\n",
       " 86,\n",
       " 87,\n",
       " 88,\n",
       " 89,\n",
       " 90,\n",
       " 91,\n",
       " 92,\n",
       " 93,\n",
       " 94,\n",
       " 95,\n",
       " 96,\n",
       " 97,\n",
       " 98,\n",
       " 99]"
      ]
     },
     "execution_count": 23,
     "metadata": {},
     "output_type": "execute_result"
    }
   ],
   "source": [
    "numeros"
   ]
  },
  {
   "cell_type": "code",
   "execution_count": 24,
   "id": "ecdd7ad7",
   "metadata": {},
   "outputs": [
    {
     "data": {
      "text/plain": [
       "range(0, 101)"
      ]
     },
     "execution_count": 24,
     "metadata": {},
     "output_type": "execute_result"
    }
   ],
   "source": [
    "range(101)"
   ]
  },
  {
   "cell_type": "code",
   "execution_count": 26,
   "id": "065823fa",
   "metadata": {},
   "outputs": [],
   "source": [
    "numeros = list(range(101))"
   ]
  },
  {
   "cell_type": "code",
   "execution_count": 35,
   "id": "474ecc81",
   "metadata": {},
   "outputs": [],
   "source": [
    "numeros = [i for i in range(100) if i % 10 != 0]"
   ]
  },
  {
   "cell_type": "code",
   "execution_count": 36,
   "id": "8d092084",
   "metadata": {},
   "outputs": [
    {
     "data": {
      "text/plain": [
       "[1,\n",
       " 2,\n",
       " 3,\n",
       " 4,\n",
       " 5,\n",
       " 6,\n",
       " 7,\n",
       " 8,\n",
       " 9,\n",
       " 11,\n",
       " 12,\n",
       " 13,\n",
       " 14,\n",
       " 15,\n",
       " 16,\n",
       " 17,\n",
       " 18,\n",
       " 19,\n",
       " 21,\n",
       " 22,\n",
       " 23,\n",
       " 24,\n",
       " 25,\n",
       " 26,\n",
       " 27,\n",
       " 28,\n",
       " 29,\n",
       " 31,\n",
       " 32,\n",
       " 33,\n",
       " 34,\n",
       " 35,\n",
       " 36,\n",
       " 37,\n",
       " 38,\n",
       " 39,\n",
       " 41,\n",
       " 42,\n",
       " 43,\n",
       " 44,\n",
       " 45,\n",
       " 46,\n",
       " 47,\n",
       " 48,\n",
       " 49,\n",
       " 51,\n",
       " 52,\n",
       " 53,\n",
       " 54,\n",
       " 55,\n",
       " 56,\n",
       " 57,\n",
       " 58,\n",
       " 59,\n",
       " 61,\n",
       " 62,\n",
       " 63,\n",
       " 64,\n",
       " 65,\n",
       " 66,\n",
       " 67,\n",
       " 68,\n",
       " 69,\n",
       " 71,\n",
       " 72,\n",
       " 73,\n",
       " 74,\n",
       " 75,\n",
       " 76,\n",
       " 77,\n",
       " 78,\n",
       " 79,\n",
       " 81,\n",
       " 82,\n",
       " 83,\n",
       " 84,\n",
       " 85,\n",
       " 86,\n",
       " 87,\n",
       " 88,\n",
       " 89,\n",
       " 91,\n",
       " 92,\n",
       " 93,\n",
       " 94,\n",
       " 95,\n",
       " 96,\n",
       " 97,\n",
       " 98,\n",
       " 99]"
      ]
     },
     "execution_count": 36,
     "metadata": {},
     "output_type": "execute_result"
    }
   ],
   "source": [
    "numeros"
   ]
  },
  {
   "cell_type": "code",
   "execution_count": 37,
   "id": "7c356a67",
   "metadata": {},
   "outputs": [],
   "source": [
    "texto = \"\"\"rato roeu a roupa do rei de Roma,\n",
    "O rato roeu a roupa do rei da Rússia,\n",
    "O rato roeu a roupa do RodovaIho...\n",
    "O rato a roer roía\n",
    "E a rosa Rita Ramalho do rato a roer se ria.\n",
    "O rato roeu a roupa do rei de roma\n",
    "a rainha com raiva roeu o resto.\"\"\""
   ]
  },
  {
   "cell_type": "code",
   "execution_count": 43,
   "id": "787b5331",
   "metadata": {},
   "outputs": [
    {
     "name": "stdout",
     "output_type": "stream",
     "text": [
      "rato roeu a roupa do rei de Roma\n",
      "O rato roeu a roupa do rei da Rússia\n",
      "O rato roeu a roupa do RodovaIho\n",
      "O rato a roer roía\n",
      "E a rosa Rita Ramalho do rato a roer se ria\n",
      "O rato roeu a roupa do rei de roma\n",
      "a rainha com raiva roeu o resto\n"
     ]
    }
   ],
   "source": [
    "caracteres_remover = \".,!'\\\";:/?=#$%&*()\"\n",
    "novo_texto = \"\"\n",
    "for letra in texto:\n",
    "    if letra not in caracteres_remover:\n",
    "        novo_texto += letra\n",
    "print(novo_texto)"
   ]
  },
  {
   "cell_type": "code",
   "execution_count": null,
   "id": "0d291fa9",
   "metadata": {},
   "outputs": [],
   "source": [
    "# novo_texto = texto sem \"\\n\" \".\" \",\""
   ]
  },
  {
   "cell_type": "code",
   "execution_count": 45,
   "id": "efdc2301",
   "metadata": {},
   "outputs": [],
   "source": [
    "palavra = \"\";\n",
    "lista = []\n",
    "for letra in novo_texto:\n",
    "    if letra not in [\" \", \"\\n\"]:\n",
    "        palavra = palavra + letra\n",
    "    else: \n",
    "        lista.append(palavra)\n",
    "        palavra = \"\""
   ]
  },
  {
   "cell_type": "code",
   "execution_count": 47,
   "id": "4f24c9d6",
   "metadata": {},
   "outputs": [],
   "source": [
    "lista = novo_texto.split()"
   ]
  },
  {
   "cell_type": "code",
   "execution_count": 48,
   "id": "add6c41e",
   "metadata": {},
   "outputs": [
    {
     "data": {
      "text/plain": [
       "['rato',\n",
       " 'roeu',\n",
       " 'a',\n",
       " 'roupa',\n",
       " 'do',\n",
       " 'rei',\n",
       " 'de',\n",
       " 'Roma',\n",
       " 'O',\n",
       " 'rato',\n",
       " 'roeu',\n",
       " 'a',\n",
       " 'roupa',\n",
       " 'do',\n",
       " 'rei',\n",
       " 'da',\n",
       " 'Rússia',\n",
       " 'O',\n",
       " 'rato',\n",
       " 'roeu',\n",
       " 'a',\n",
       " 'roupa',\n",
       " 'do',\n",
       " 'RodovaIho',\n",
       " 'O',\n",
       " 'rato',\n",
       " 'a',\n",
       " 'roer',\n",
       " 'roía',\n",
       " 'E',\n",
       " 'a',\n",
       " 'rosa',\n",
       " 'Rita',\n",
       " 'Ramalho',\n",
       " 'do',\n",
       " 'rato',\n",
       " 'a',\n",
       " 'roer',\n",
       " 'se',\n",
       " 'ria',\n",
       " 'O',\n",
       " 'rato',\n",
       " 'roeu',\n",
       " 'a',\n",
       " 'roupa',\n",
       " 'do',\n",
       " 'rei',\n",
       " 'de',\n",
       " 'roma',\n",
       " 'a',\n",
       " 'rainha',\n",
       " 'com',\n",
       " 'raiva',\n",
       " 'roeu',\n",
       " 'o',\n",
       " 'resto']"
      ]
     },
     "execution_count": 48,
     "metadata": {},
     "output_type": "execute_result"
    }
   ],
   "source": [
    "lista"
   ]
  },
  {
   "cell_type": "code",
   "execution_count": 57,
   "id": "5b258559",
   "metadata": {},
   "outputs": [],
   "source": [
    "vocabulario = []"
   ]
  },
  {
   "cell_type": "code",
   "execution_count": 58,
   "id": "4af63df3",
   "metadata": {},
   "outputs": [],
   "source": [
    "for palavra in lista:\n",
    "    palavra = palavra.lower()\n",
    "    if palavra not in vocabulario:\n",
    "        vocabulario.append(palavra)"
   ]
  },
  {
   "cell_type": "code",
   "execution_count": 62,
   "id": "5dc78343",
   "metadata": {},
   "outputs": [],
   "source": [
    "lista_minusculas = [palavra.lower() for palavra in lista]"
   ]
  },
  {
   "cell_type": "code",
   "execution_count": 63,
   "id": "092538c3",
   "metadata": {},
   "outputs": [],
   "source": [
    "vocabulario = set(lista_minusculas)"
   ]
  },
  {
   "cell_type": "code",
   "execution_count": 64,
   "id": "47295c13",
   "metadata": {},
   "outputs": [
    {
     "data": {
      "text/plain": [
       "{'a',\n",
       " 'com',\n",
       " 'da',\n",
       " 'de',\n",
       " 'do',\n",
       " 'e',\n",
       " 'o',\n",
       " 'rainha',\n",
       " 'raiva',\n",
       " 'ramalho',\n",
       " 'rato',\n",
       " 'rei',\n",
       " 'resto',\n",
       " 'ria',\n",
       " 'rita',\n",
       " 'rodovaiho',\n",
       " 'roer',\n",
       " 'roeu',\n",
       " 'roma',\n",
       " 'rosa',\n",
       " 'roupa',\n",
       " 'roía',\n",
       " 'rússia',\n",
       " 'se'}"
      ]
     },
     "execution_count": 64,
     "metadata": {},
     "output_type": "execute_result"
    }
   ],
   "source": [
    "vocabulario"
   ]
  },
  {
   "cell_type": "code",
   "execution_count": 65,
   "id": "4d6fb3b5",
   "metadata": {},
   "outputs": [],
   "source": [
    "from nltk.tokenize import word_tokenize"
   ]
  },
  {
   "cell_type": "code",
   "execution_count": 67,
   "id": "780dd0e7",
   "metadata": {},
   "outputs": [],
   "source": [
    "palavras_tokens = word_tokenize(novo_texto)"
   ]
  },
  {
   "cell_type": "code",
   "execution_count": 68,
   "id": "95943418",
   "metadata": {},
   "outputs": [
    {
     "data": {
      "text/plain": [
       "0.42857142857142855"
      ]
     },
     "execution_count": 68,
     "metadata": {},
     "output_type": "execute_result"
    }
   ],
   "source": [
    "len(vocabulario) / len(palavras_tokens)"
   ]
  },
  {
   "cell_type": "code",
   "execution_count": 69,
   "id": "206c93c0",
   "metadata": {},
   "outputs": [],
   "source": [
    "# stopwords = ['a', 'o', 'e', 'com', 'de', 'da', 'do']"
   ]
  },
  {
   "cell_type": "code",
   "execution_count": 70,
   "id": "8230c3de",
   "metadata": {},
   "outputs": [],
   "source": [
    "import nltk"
   ]
  },
  {
   "cell_type": "code",
   "execution_count": 71,
   "id": "716aa4dc",
   "metadata": {},
   "outputs": [],
   "source": [
    "stopwords = nltk.corpus.stopwords.words('portuguese')"
   ]
  },
  {
   "cell_type": "code",
   "execution_count": 72,
   "id": "f58dd488",
   "metadata": {},
   "outputs": [
    {
     "data": {
      "text/plain": [
       "['a',\n",
       " 'à',\n",
       " 'ao',\n",
       " 'aos',\n",
       " 'aquela',\n",
       " 'aquelas',\n",
       " 'aquele',\n",
       " 'aqueles',\n",
       " 'aquilo',\n",
       " 'as',\n",
       " 'às',\n",
       " 'até',\n",
       " 'com',\n",
       " 'como',\n",
       " 'da',\n",
       " 'das',\n",
       " 'de',\n",
       " 'dela',\n",
       " 'delas',\n",
       " 'dele',\n",
       " 'deles',\n",
       " 'depois',\n",
       " 'do',\n",
       " 'dos',\n",
       " 'e',\n",
       " 'é',\n",
       " 'ela',\n",
       " 'elas',\n",
       " 'ele',\n",
       " 'eles',\n",
       " 'em',\n",
       " 'entre',\n",
       " 'era',\n",
       " 'eram',\n",
       " 'éramos',\n",
       " 'essa',\n",
       " 'essas',\n",
       " 'esse',\n",
       " 'esses',\n",
       " 'esta',\n",
       " 'está',\n",
       " 'estamos',\n",
       " 'estão',\n",
       " 'estar',\n",
       " 'estas',\n",
       " 'estava',\n",
       " 'estavam',\n",
       " 'estávamos',\n",
       " 'este',\n",
       " 'esteja',\n",
       " 'estejam',\n",
       " 'estejamos',\n",
       " 'estes',\n",
       " 'esteve',\n",
       " 'estive',\n",
       " 'estivemos',\n",
       " 'estiver',\n",
       " 'estivera',\n",
       " 'estiveram',\n",
       " 'estivéramos',\n",
       " 'estiverem',\n",
       " 'estivermos',\n",
       " 'estivesse',\n",
       " 'estivessem',\n",
       " 'estivéssemos',\n",
       " 'estou',\n",
       " 'eu',\n",
       " 'foi',\n",
       " 'fomos',\n",
       " 'for',\n",
       " 'fora',\n",
       " 'foram',\n",
       " 'fôramos',\n",
       " 'forem',\n",
       " 'formos',\n",
       " 'fosse',\n",
       " 'fossem',\n",
       " 'fôssemos',\n",
       " 'fui',\n",
       " 'há',\n",
       " 'haja',\n",
       " 'hajam',\n",
       " 'hajamos',\n",
       " 'hão',\n",
       " 'havemos',\n",
       " 'haver',\n",
       " 'hei',\n",
       " 'houve',\n",
       " 'houvemos',\n",
       " 'houver',\n",
       " 'houvera',\n",
       " 'houverá',\n",
       " 'houveram',\n",
       " 'houvéramos',\n",
       " 'houverão',\n",
       " 'houverei',\n",
       " 'houverem',\n",
       " 'houveremos',\n",
       " 'houveria',\n",
       " 'houveriam',\n",
       " 'houveríamos',\n",
       " 'houvermos',\n",
       " 'houvesse',\n",
       " 'houvessem',\n",
       " 'houvéssemos',\n",
       " 'isso',\n",
       " 'isto',\n",
       " 'já',\n",
       " 'lhe',\n",
       " 'lhes',\n",
       " 'mais',\n",
       " 'mas',\n",
       " 'me',\n",
       " 'mesmo',\n",
       " 'meu',\n",
       " 'meus',\n",
       " 'minha',\n",
       " 'minhas',\n",
       " 'muito',\n",
       " 'na',\n",
       " 'não',\n",
       " 'nas',\n",
       " 'nem',\n",
       " 'no',\n",
       " 'nos',\n",
       " 'nós',\n",
       " 'nossa',\n",
       " 'nossas',\n",
       " 'nosso',\n",
       " 'nossos',\n",
       " 'num',\n",
       " 'numa',\n",
       " 'o',\n",
       " 'os',\n",
       " 'ou',\n",
       " 'para',\n",
       " 'pela',\n",
       " 'pelas',\n",
       " 'pelo',\n",
       " 'pelos',\n",
       " 'por',\n",
       " 'qual',\n",
       " 'quando',\n",
       " 'que',\n",
       " 'quem',\n",
       " 'são',\n",
       " 'se',\n",
       " 'seja',\n",
       " 'sejam',\n",
       " 'sejamos',\n",
       " 'sem',\n",
       " 'ser',\n",
       " 'será',\n",
       " 'serão',\n",
       " 'serei',\n",
       " 'seremos',\n",
       " 'seria',\n",
       " 'seriam',\n",
       " 'seríamos',\n",
       " 'seu',\n",
       " 'seus',\n",
       " 'só',\n",
       " 'somos',\n",
       " 'sou',\n",
       " 'sua',\n",
       " 'suas',\n",
       " 'também',\n",
       " 'te',\n",
       " 'tem',\n",
       " 'tém',\n",
       " 'temos',\n",
       " 'tenha',\n",
       " 'tenham',\n",
       " 'tenhamos',\n",
       " 'tenho',\n",
       " 'terá',\n",
       " 'terão',\n",
       " 'terei',\n",
       " 'teremos',\n",
       " 'teria',\n",
       " 'teriam',\n",
       " 'teríamos',\n",
       " 'teu',\n",
       " 'teus',\n",
       " 'teve',\n",
       " 'tinha',\n",
       " 'tinham',\n",
       " 'tínhamos',\n",
       " 'tive',\n",
       " 'tivemos',\n",
       " 'tiver',\n",
       " 'tivera',\n",
       " 'tiveram',\n",
       " 'tivéramos',\n",
       " 'tiverem',\n",
       " 'tivermos',\n",
       " 'tivesse',\n",
       " 'tivessem',\n",
       " 'tivéssemos',\n",
       " 'tu',\n",
       " 'tua',\n",
       " 'tuas',\n",
       " 'um',\n",
       " 'uma',\n",
       " 'você',\n",
       " 'vocês',\n",
       " 'vos']"
      ]
     },
     "execution_count": 72,
     "metadata": {},
     "output_type": "execute_result"
    }
   ],
   "source": [
    "stopwords"
   ]
  },
  {
   "cell_type": "code",
   "execution_count": 73,
   "id": "f2b8968c",
   "metadata": {},
   "outputs": [],
   "source": [
    "novo_vocabulario = []"
   ]
  },
  {
   "cell_type": "code",
   "execution_count": 75,
   "id": "e33a0149",
   "metadata": {},
   "outputs": [],
   "source": [
    "for palavra in vocabulario:\n",
    "    if palavra not in stopwords:\n",
    "        novo_vocabulario.append(palavra)"
   ]
  },
  {
   "cell_type": "code",
   "execution_count": 76,
   "id": "e0c15fbc",
   "metadata": {},
   "outputs": [
    {
     "data": {
      "text/plain": [
       "['roupa',\n",
       " 'roía',\n",
       " 'rei',\n",
       " 'rainha',\n",
       " 'resto',\n",
       " 'roeu',\n",
       " 'rússia',\n",
       " 'rato',\n",
       " 'rita',\n",
       " 'roer',\n",
       " 'rodovaiho',\n",
       " 'raiva',\n",
       " 'roma',\n",
       " 'rosa',\n",
       " 'ramalho',\n",
       " 'ria']"
      ]
     },
     "execution_count": 76,
     "metadata": {},
     "output_type": "execute_result"
    }
   ],
   "source": [
    "novo_vocabulario"
   ]
  },
  {
   "cell_type": "code",
   "execution_count": null,
   "id": "22e6ae74",
   "metadata": {},
   "outputs": [],
   "source": []
  }
 ],
 "metadata": {
  "kernelspec": {
   "display_name": "Python 3 (ipykernel)",
   "language": "python",
   "name": "python3"
  },
  "language_info": {
   "codemirror_mode": {
    "name": "ipython",
    "version": 3
   },
   "file_extension": ".py",
   "mimetype": "text/x-python",
   "name": "python",
   "nbconvert_exporter": "python",
   "pygments_lexer": "ipython3",
   "version": "3.10.9"
  }
 },
 "nbformat": 4,
 "nbformat_minor": 5
}
