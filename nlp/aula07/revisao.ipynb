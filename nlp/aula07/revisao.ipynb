{
 "cells": [
  {
   "cell_type": "code",
   "execution_count": null,
   "id": "8005e2fb",
   "metadata": {},
   "outputs": [],
   "source": []
  },
  {
   "cell_type": "code",
   "execution_count": 18,
   "id": "bc648050",
   "metadata": {},
   "outputs": [],
   "source": [
    "texto = \"\"\"No meio do caminho tinha uma pedra\n",
    "tinha uma pedra no meio do caminho\n",
    "tinha uma pedra\n",
    "no meio do caminho tinha uma pedra.\n",
    "\"\"\""
   ]
  },
  {
   "cell_type": "code",
   "execution_count": 21,
   "id": "732a389c",
   "metadata": {},
   "outputs": [
    {
     "data": {
      "text/plain": [
       "['No',\n",
       " 'meio',\n",
       " 'do',\n",
       " 'caminho',\n",
       " 'tinha',\n",
       " 'uma',\n",
       " 'pedra\\ntinha',\n",
       " 'uma',\n",
       " 'pedra',\n",
       " 'no',\n",
       " 'meio',\n",
       " 'do',\n",
       " 'caminho\\ntinha',\n",
       " 'uma',\n",
       " 'pedra\\nno',\n",
       " 'meio',\n",
       " 'do',\n",
       " 'caminho',\n",
       " 'tinha',\n",
       " 'uma',\n",
       " 'pedra.\\n']"
      ]
     },
     "execution_count": 21,
     "metadata": {},
     "output_type": "execute_result"
    }
   ],
   "source": [
    "# l1 = [\"No\", \"meio\", \"do\", \"caminho\"]\n",
    "l1 = texto.split(\" \")\n",
    "l1"
   ]
  },
  {
   "cell_type": "code",
   "execution_count": 22,
   "id": "1d32b9d8",
   "metadata": {
    "scrolled": true
   },
   "outputs": [
    {
     "name": "stdout",
     "output_type": "stream",
     "text": [
      "pedra\n",
      "tinha\n",
      "Inserindo tinha na posição 6\n",
      "caminho\n",
      "tinha\n",
      "Inserindo tinha na posição 13\n",
      "pedra\n",
      "no\n",
      "Inserindo no na posição 16\n",
      "pedra.\n",
      "\n",
      "Inserindo  na posição 23\n",
      "['No', 'meio', 'do', 'caminho', 'tinha', 'uma', 'pedra', 'tinha', 'uma', 'pedra', 'no', 'meio', 'do', 'caminho', 'tinha', 'uma', 'pedra', 'no', 'meio', 'do', 'caminho', 'tinha', 'uma', 'pedra.', '']\n"
     ]
    }
   ],
   "source": [
    "indice = 0\n",
    "for item in l1:\n",
    "    if item.find(\"\\n\") > 0:\n",
    "        print(item)\n",
    "        l2 = item.split(\"\\n\")\n",
    "        l1[indice] = l2[0]\n",
    "        l1.insert(indice + 1, l2[1])\n",
    "        print(\"Inserindo\", l2[1], \"na posição\", indice)\n",
    "    indice += 1\n",
    "print(l1)"
   ]
  },
  {
   "cell_type": "code",
   "execution_count": 24,
   "id": "48ceed40",
   "metadata": {},
   "outputs": [],
   "source": [
    "contagem_palavras = [\n",
    "    ['pedra', 4],\n",
    "    ['meio', 3],\n",
    "    ['caminho', 3]\n",
    "]"
   ]
  },
  {
   "cell_type": "code",
   "execution_count": 25,
   "id": "b00b9eeb",
   "metadata": {},
   "outputs": [
    {
     "data": {
      "text/plain": [
       "['meio', 3]"
      ]
     },
     "execution_count": 25,
     "metadata": {},
     "output_type": "execute_result"
    }
   ],
   "source": [
    "contagem_palavras[1]"
   ]
  },
  {
   "cell_type": "code",
   "execution_count": 26,
   "id": "f10cdbf5",
   "metadata": {},
   "outputs": [
    {
     "data": {
      "text/plain": [
       "3"
      ]
     },
     "execution_count": 26,
     "metadata": {},
     "output_type": "execute_result"
    }
   ],
   "source": [
    "contagem_palavras[1][1]"
   ]
  },
  {
   "cell_type": "code",
   "execution_count": 28,
   "id": "a841a81c",
   "metadata": {},
   "outputs": [
    {
     "data": {
      "text/plain": [
       "['meio', 3]"
      ]
     },
     "execution_count": 28,
     "metadata": {},
     "output_type": "execute_result"
    }
   ],
   "source": [
    "contagem_palavras[:2]"
   ]
  },
  {
   "cell_type": "code",
   "execution_count": 30,
   "id": "f716b192",
   "metadata": {},
   "outputs": [],
   "source": [
    "palavras = { 'pedra': 4,    'meio': 3,     'caminho': 3 }\n",
    "#            chave:valor    chave:valor    chave:valor"
   ]
  },
  {
   "cell_type": "code",
   "execution_count": 32,
   "id": "18ccf427",
   "metadata": {},
   "outputs": [
    {
     "data": {
      "text/plain": [
       "4"
      ]
     },
     "execution_count": 32,
     "metadata": {},
     "output_type": "execute_result"
    }
   ],
   "source": [
    "palavras['pedra']"
   ]
  },
  {
   "cell_type": "code",
   "execution_count": 34,
   "id": "60bba7e0",
   "metadata": {},
   "outputs": [
    {
     "data": {
      "text/plain": [
       "{'pedra': 4, 'meio': 3, 'caminho': 3}"
      ]
     },
     "execution_count": 34,
     "metadata": {},
     "output_type": "execute_result"
    }
   ],
   "source": [
    "palavras"
   ]
  },
  {
   "cell_type": "code",
   "execution_count": 35,
   "id": "6f63d9a8",
   "metadata": {},
   "outputs": [
    {
     "data": {
      "text/plain": [
       "dict_keys(['pedra', 'meio', 'caminho'])"
      ]
     },
     "execution_count": 35,
     "metadata": {},
     "output_type": "execute_result"
    }
   ],
   "source": [
    "palavras.keys()"
   ]
  },
  {
   "cell_type": "code",
   "execution_count": 36,
   "id": "3a56dd64",
   "metadata": {},
   "outputs": [
    {
     "data": {
      "text/plain": [
       "dict_values([4, 3, 3])"
      ]
     },
     "execution_count": 36,
     "metadata": {},
     "output_type": "execute_result"
    }
   ],
   "source": [
    "palavras.values()"
   ]
  },
  {
   "cell_type": "code",
   "execution_count": 38,
   "id": "ecf53264",
   "metadata": {},
   "outputs": [
    {
     "data": {
      "text/plain": [
       "False"
      ]
     },
     "execution_count": 38,
     "metadata": {},
     "output_type": "execute_result"
    }
   ],
   "source": [
    "'tinha' in palavras"
   ]
  },
  {
   "cell_type": "code",
   "execution_count": 42,
   "id": "06be6069",
   "metadata": {},
   "outputs": [],
   "source": [
    "l1 = texto.split(\" \")"
   ]
  },
  {
   "cell_type": "code",
   "execution_count": 53,
   "id": "d1a68c25",
   "metadata": {},
   "outputs": [],
   "source": [
    "import re\n",
    "\n",
    "def limpar_lista( lista_palavras ):\n",
    "    indice = 0\n",
    "    regex = r\"[!\\\"#\\$%&\\'\\(\\)\\*\\+,-\\./:;<=>\\?@\\[\\\\\\]\\^_`{\\|}~]\"\n",
    "    subst = \"\"\n",
    "    nova_lista = []\n",
    "    for palavra in lista_palavras:\n",
    "        if palavra.find(\"\\n\") > 0:\n",
    "            l2 = palavra.split(\"\\n\")   # l2 = ['d', 'E', '']\n",
    "            l2_limpa = limpar_lista( l2 ) # l2 = ['d', 'e']\n",
    "            nova_lista.extend(l2_limpa)\n",
    "        elif palavra != \"\":\n",
    "            palavra_limpa = palavra.lower()\n",
    "            palavra_limpa = re.sub(regex, subst, palavra_limpa, 0, re.MULTILINE)\n",
    "            nova_lista.append(palavra_limpa)\n",
    "        indice += 1\n",
    "    return nova_lista"
   ]
  },
  {
   "cell_type": "code",
   "execution_count": 71,
   "id": "d07f5e80",
   "metadata": {},
   "outputs": [],
   "source": [
    "palavras_limpas1 = limpar_lista( l1 )"
   ]
  },
  {
   "cell_type": "code",
   "execution_count": 72,
   "id": "f90f82e4",
   "metadata": {},
   "outputs": [],
   "source": [
    "palavras = {}"
   ]
  },
  {
   "cell_type": "code",
   "execution_count": 73,
   "id": "32a42f40",
   "metadata": {},
   "outputs": [
    {
     "data": {
      "text/plain": [
       "{'no': 3, 'meio': 3, 'do': 3, 'caminho': 3, 'tinha': 4, 'uma': 4, 'pedra': 4}"
      ]
     },
     "execution_count": 73,
     "metadata": {},
     "output_type": "execute_result"
    }
   ],
   "source": [
    "for palavra in palavras_limpas1:\n",
    "    if palavra in palavras:\n",
    "        palavras[palavra] += 1\n",
    "    else:\n",
    "        palavras[palavra] = 1\n",
    "palavras"
   ]
  },
  {
   "cell_type": "code",
   "execution_count": 74,
   "id": "1109e20c",
   "metadata": {},
   "outputs": [
    {
     "data": {
      "text/plain": [
       "7"
      ]
     },
     "execution_count": 74,
     "metadata": {},
     "output_type": "execute_result"
    }
   ],
   "source": [
    "len(palavras.keys())"
   ]
  },
  {
   "cell_type": "code",
   "execution_count": 75,
   "id": "8bac0743",
   "metadata": {},
   "outputs": [
    {
     "data": {
      "text/plain": [
       "21"
      ]
     },
     "execution_count": 75,
     "metadata": {},
     "output_type": "execute_result"
    }
   ],
   "source": [
    "len(l1)"
   ]
  },
  {
   "cell_type": "code",
   "execution_count": 76,
   "id": "e69eee94",
   "metadata": {},
   "outputs": [],
   "source": [
    "texto2 = \"\"\"Nunca me esquecerei desse acontecimento\n",
    "na vida de minhas retinas tão fatigadas.\n",
    "Nunca me esquecerei que no meio do caminho\n",
    "tinha uma pedra\n",
    "tinha uma pedra no meio do caminho\n",
    "no meio do caminho tinha uma pedra.\"\"\""
   ]
  },
  {
   "cell_type": "code",
   "execution_count": 77,
   "id": "9b8e91c2",
   "metadata": {},
   "outputs": [],
   "source": [
    "l2 = texto2.split(\" \")"
   ]
  },
  {
   "cell_type": "code",
   "execution_count": 78,
   "id": "e6b5b01a",
   "metadata": {},
   "outputs": [],
   "source": [
    "palavras_limpas2 = limpar_lista(l2)"
   ]
  },
  {
   "cell_type": "code",
   "execution_count": 79,
   "id": "4fa29080",
   "metadata": {},
   "outputs": [
    {
     "data": {
      "text/plain": [
       "{'no': 6,\n",
       " 'meio': 6,\n",
       " 'do': 6,\n",
       " 'caminho': 6,\n",
       " 'tinha': 7,\n",
       " 'uma': 7,\n",
       " 'pedra': 7,\n",
       " 'nunca': 2,\n",
       " 'me': 2,\n",
       " 'esquecerei': 2,\n",
       " 'desse': 1,\n",
       " 'acontecimento': 1,\n",
       " 'na': 1,\n",
       " 'vida': 1,\n",
       " 'de': 1,\n",
       " 'minhas': 1,\n",
       " 'retinas': 1,\n",
       " 'tão': 1,\n",
       " 'fatigadas': 1,\n",
       " 'que': 1}"
      ]
     },
     "execution_count": 79,
     "metadata": {},
     "output_type": "execute_result"
    }
   ],
   "source": [
    "for palavra in palavras_limpas2:\n",
    "    if palavra in palavras:\n",
    "        palavras[palavra] += 1\n",
    "    else:\n",
    "        palavras[palavra] = 1\n",
    "palavras"
   ]
  },
  {
   "cell_type": "code",
   "execution_count": 80,
   "id": "0c68743c",
   "metadata": {},
   "outputs": [],
   "source": [
    "bow = []"
   ]
  },
  {
   "cell_type": "code",
   "execution_count": 81,
   "id": "625f15ba",
   "metadata": {},
   "outputs": [],
   "source": [
    "for chave in palavras.keys():\n",
    "    bow.append([chave, palavras_limpas1.count(chave), palavras_limpas2.count(chave)])"
   ]
  },
  {
   "cell_type": "code",
   "execution_count": 82,
   "id": "1fc3e69d",
   "metadata": {},
   "outputs": [
    {
     "data": {
      "text/plain": [
       "[['no', 3, 3],\n",
       " ['meio', 3, 3],\n",
       " ['do', 3, 3],\n",
       " ['caminho', 3, 3],\n",
       " ['tinha', 4, 3],\n",
       " ['uma', 4, 3],\n",
       " ['pedra', 4, 3],\n",
       " ['nunca', 0, 2],\n",
       " ['me', 0, 2],\n",
       " ['esquecerei', 0, 2],\n",
       " ['desse', 0, 1],\n",
       " ['acontecimento', 0, 1],\n",
       " ['na', 0, 1],\n",
       " ['vida', 0, 1],\n",
       " ['de', 0, 1],\n",
       " ['minhas', 0, 1],\n",
       " ['retinas', 0, 1],\n",
       " ['tão', 0, 1],\n",
       " ['fatigadas', 0, 1],\n",
       " ['que', 0, 1]]"
      ]
     },
     "execution_count": 82,
     "metadata": {},
     "output_type": "execute_result"
    }
   ],
   "source": [
    "bow"
   ]
  },
  {
   "cell_type": "code",
   "execution_count": 83,
   "id": "b3c7f42a",
   "metadata": {},
   "outputs": [],
   "source": [
    "import matplotlib.pyplot as plt"
   ]
  },
  {
   "cell_type": "code",
   "execution_count": 86,
   "id": "3519834a",
   "metadata": {},
   "outputs": [
    {
     "data": {
      "image/png": "[encoded data removed]",
      "text/plain": [
       "<Figure size 640x480 with 1 Axes>"
      ]
     },
     "metadata": {},
     "output_type": "display_data"
    }
   ],
   "source": [
    "values1 = []\n",
    "values2 = []\n",
    "names = []\n",
    "for item in bow:\n",
    "    names.append(item[0])\n",
    "    values1.append(item[1])\n",
    "    values2.append(item[2])\n",
    "\n",
    "plt.bar(names, values1, width=w, color=\"green\", label=\"Texto 1\")\n",
    "plt.autoscale(tight=True)\n",
    "plt.show()\n"
   ]
  },
  {
   "cell_type": "code",
   "execution_count": 87,
   "id": "3a3c3541",
   "metadata": {},
   "outputs": [
    {
     "data": {
      "image/png": "[encoded data removed]",
      "text/plain": [
       "<Figure size 640x480 with 1 Axes>"
      ]
     },
     "metadata": {},
     "output_type": "display_data"
    }
   ],
   "source": [
    "plt.bar(names, values2, width=w, color=\"red\", label=\"Texto 2\")\n",
    "plt.autoscale(tight=True)\n",
    "plt.show()"
   ]
  },
  {
   "cell_type": "code",
   "execution_count": null,
   "id": "4dec698f",
   "metadata": {},
   "outputs": [],
   "source": []
  }
 ],
 "metadata": {
  "kernelspec": {
   "display_name": "Python 3 (ipykernel)",
   "language": "python",
   "name": "python3"
  },
  "language_info": {
   "codemirror_mode": {
    "name": "ipython",
    "version": 3
   },
   "file_extension": ".py",
   "mimetype": "text/x-python",
   "name": "python",
   "nbconvert_exporter": "python",
   "pygments_lexer": "ipython3",
   "version": "3.11.4"
  }
 },
 "nbformat": 4,
 "nbformat_minor": 5
}
