{
 "cells": [
  {
   "cell_type": "code",
   "execution_count": 1,
   "id": "44963704",
   "metadata": {},
   "outputs": [],
   "source": [
    "import pandas as pd"
   ]
  },
  {
   "cell_type": "code",
   "execution_count": 2,
   "id": "7947d95f",
   "metadata": {},
   "outputs": [],
   "source": [
    "import matplotlib.pyplot as plt"
   ]
  },
  {
   "cell_type": "code",
   "execution_count": 3,
   "id": "a22daa31",
   "metadata": {},
   "outputs": [],
   "source": [
    "import spacy"
   ]
  },
  {
   "cell_type": "code",
   "execution_count": 4,
   "id": "fd686d3d",
   "metadata": {},
   "outputs": [],
   "source": [
    "filmes = pd.read_csv(\"../../../dados/imdb-reviews-pt-br.csv\")"
   ]
  },
  {
   "cell_type": "code",
   "execution_count": 5,
   "id": "242a1ae0",
   "metadata": {},
   "outputs": [],
   "source": [
    "filmes[\"classify\"] = filmes[\"sentiment\"].replace([\"neg\", \"pos\"], [0, 1])"
   ]
  },
  {
   "cell_type": "code",
   "execution_count": 6,
   "id": "df366c72",
   "metadata": {},
   "outputs": [],
   "source": [
    "filmes[\"text_minus\"] = filmes[\"text_pt\"].str.lower()"
   ]
  },
  {
   "cell_type": "code",
   "execution_count": 7,
   "id": "a5c9b41b",
   "metadata": {},
   "outputs": [],
   "source": [
    "filmes[\"text_no_enter\"] = filmes[\"text_minus\"].replace([\"\\n\", \"\\r\", \"\\t\"], [' ', ' ', ' '])"
   ]
  },
  {
   "cell_type": "code",
   "execution_count": 8,
   "id": "6495c848",
   "metadata": {},
   "outputs": [],
   "source": [
    "import string\n",
    "mytrans = str.maketrans(\"\", \"\", string.punctuation)\n",
    "filmes[\"text_no_punct\"] = filmes[\"text_no_enter\"].str.translate(mytrans)"
   ]
  },
  {
   "cell_type": "markdown",
   "id": "345eb4f9",
   "metadata": {},
   "source": [
    "## Remove os acentos"
   ]
  },
  {
   "cell_type": "code",
   "execution_count": 9,
   "id": "516536bd",
   "metadata": {},
   "outputs": [],
   "source": [
    "from unidecode import unidecode"
   ]
  },
  {
   "cell_type": "code",
   "execution_count": 10,
   "id": "bbb425d6",
   "metadata": {},
   "outputs": [],
   "source": [
    "filmes[\"text_no_accent\"] = filmes[\"text_no_punct\"].apply(unidecode)"
   ]
  },
  {
   "cell_type": "markdown",
   "id": "bfe97f37",
   "metadata": {},
   "source": [
    "## Remove as Stop Words"
   ]
  },
  {
   "cell_type": "code",
   "execution_count": 11,
   "id": "135a7bd5",
   "metadata": {},
   "outputs": [
    {
     "name": "stderr",
     "output_type": "stream",
     "text": [
      "[nltk_data] Downloading package stopwords to\n",
      "[nltk_data]     C:\\Users\\Antonio\\AppData\\Roaming\\nltk_data...\n",
      "[nltk_data]   Package stopwords is already up-to-date!\n"
     ]
    }
   ],
   "source": [
    "import nltk\n",
    "nltk.download('stopwords')\n",
    "stop_words = nltk.corpus.stopwords.words('portuguese')"
   ]
  },
  {
   "cell_type": "code",
   "execution_count": 12,
   "id": "3f43d227",
   "metadata": {},
   "outputs": [],
   "source": [
    "palavras_adicionais = ['entao', 'apenas', 'historia', 'enquanto', 'ainda', 'agora', 'porque', 'filme', 'filmes', '', \n",
    "                       'pode', 'ter', 'anos', 'qualquer', 'vez', 'realmente', 'pessoas', 'todos', 'tempo', 'tao', 'sobre',\n",
    "                       'sao', 'voce', 'nao', 'parece']\n",
    "stop_words.extend(palavras_adicionais)\n",
    "stop_words.sort()"
   ]
  },
  {
   "cell_type": "code",
   "execution_count": 13,
   "id": "aeee6d89",
   "metadata": {},
   "outputs": [],
   "source": [
    "def remove_stop_words( texto ): \n",
    "    global stop_words\n",
    "    lista_palavras = texto.split(\" \")\n",
    "    nova_lista = []\n",
    "    for palavra in lista_palavras:\n",
    "        if palavra not in stop_words:\n",
    "            nova_lista.append(palavra)\n",
    "    return \" \".join(nova_lista)"
   ]
  },
  {
   "cell_type": "code",
   "execution_count": 14,
   "id": "8efbfcb5",
   "metadata": {},
   "outputs": [],
   "source": [
    "filmes[\"texto_no_stopwords\"] = filmes[\"text_no_accent\"].apply(remove_stop_words)"
   ]
  },
  {
   "cell_type": "markdown",
   "id": "fdf96d15",
   "metadata": {},
   "source": [
    "## Aplicar a lemmatization"
   ]
  },
  {
   "cell_type": "code",
   "execution_count": 48,
   "id": "21ff2397",
   "metadata": {},
   "outputs": [],
   "source": [
    "nlp = spacy.load('pt_core_news_sm')"
   ]
  },
  {
   "cell_type": "code",
   "execution_count": 49,
   "id": "87405335",
   "metadata": {},
   "outputs": [],
   "source": [
    "counter = 0\n",
    "def return_lemma( texto ):\n",
    "    global counter\n",
    "    nova_lista = []\n",
    "    doc = nlp( texto )\n",
    "    counter += 1\n",
    "    if counter % 1000 == 0:\n",
    "        print(\"Processando linha: \", counter)\n",
    "    for token in doc:\n",
    "        nova_lista.append(token.lemma_)\n",
    "    return \" \".join(nova_lista)"
   ]
  },
  {
   "cell_type": "code",
   "execution_count": null,
   "id": "c53ecbdc",
   "metadata": {},
   "outputs": [
    {
     "name": "stdout",
     "output_type": "stream",
     "text": [
      "Processando linha:  1000\n",
      "Processando linha:  2000\n",
      "Processando linha:  3000\n"
     ]
    }
   ],
   "source": [
    "filmes[\"texto_lemma\"] = filmes[\"texto_no_stopwords\"].apply(return_lemma)"
   ]
  },
  {
   "cell_type": "markdown",
   "id": "c8c00fa6",
   "metadata": {},
   "source": [
    "## Aplicar a stemming"
   ]
  },
  {
   "cell_type": "code",
   "execution_count": 18,
   "id": "80c0f700",
   "metadata": {},
   "outputs": [],
   "source": [
    "stemmer = nltk.RSLPStemmer()"
   ]
  },
  {
   "cell_type": "code",
   "execution_count": 19,
   "id": "380a9def",
   "metadata": {},
   "outputs": [],
   "source": [
    "counter = 0\n",
    "def entroncamento( texto ):\n",
    "    global counter\n",
    "    counter += 1\n",
    "    if counter % 1000 == 0:\n",
    "        print(\"Processando linha: \", counter)\n",
    "    lista_palavras = texto.split(\" \")\n",
    "    nova_lista = []\n",
    "    for palavra in lista_palavras:\n",
    "        if len(palavra) > 0:\n",
    "            nova_lista.append( stemmer.stem(palavra) )\n",
    "    return \" \".join(nova_lista)"
   ]
  },
  {
   "cell_type": "code",
   "execution_count": 20,
   "id": "f8b910d0",
   "metadata": {},
   "outputs": [
    {
     "name": "stdout",
     "output_type": "stream",
     "text": [
      "Processando linha:  1000\n",
      "Processando linha:  2000\n",
      "Processando linha:  3000\n",
      "Processando linha:  4000\n",
      "Processando linha:  5000\n",
      "Processando linha:  6000\n",
      "Processando linha:  7000\n",
      "Processando linha:  8000\n",
      "Processando linha:  9000\n",
      "Processando linha:  10000\n",
      "Processando linha:  11000\n",
      "Processando linha:  12000\n",
      "Processando linha:  13000\n",
      "Processando linha:  14000\n",
      "Processando linha:  15000\n",
      "Processando linha:  16000\n",
      "Processando linha:  17000\n",
      "Processando linha:  18000\n",
      "Processando linha:  19000\n",
      "Processando linha:  20000\n",
      "Processando linha:  21000\n",
      "Processando linha:  22000\n",
      "Processando linha:  23000\n",
      "Processando linha:  24000\n",
      "Processando linha:  25000\n",
      "Processando linha:  26000\n",
      "Processando linha:  27000\n",
      "Processando linha:  28000\n",
      "Processando linha:  29000\n",
      "Processando linha:  30000\n",
      "Processando linha:  31000\n",
      "Processando linha:  32000\n",
      "Processando linha:  33000\n",
      "Processando linha:  34000\n",
      "Processando linha:  35000\n",
      "Processando linha:  36000\n",
      "Processando linha:  37000\n",
      "Processando linha:  38000\n",
      "Processando linha:  39000\n",
      "Processando linha:  40000\n",
      "Processando linha:  41000\n",
      "Processando linha:  42000\n",
      "Processando linha:  43000\n",
      "Processando linha:  44000\n",
      "Processando linha:  45000\n",
      "Processando linha:  46000\n",
      "Processando linha:  47000\n",
      "Processando linha:  48000\n",
      "Processando linha:  49000\n"
     ]
    }
   ],
   "source": [
    "filmes[\"text_stemmed\"] = filmes[\"texto_no_stopwords\"].apply( entroncamento )"
   ]
  },
  {
   "cell_type": "code",
   "execution_count": null,
   "id": "d5d6a6a0",
   "metadata": {},
   "outputs": [],
   "source": []
  },
  {
   "cell_type": "markdown",
   "id": "f8338377",
   "metadata": {},
   "source": [
    "## Atribui a variavel que conterá os textos finais"
   ]
  },
  {
   "cell_type": "code",
   "execution_count": 44,
   "id": "d6e49d7e",
   "metadata": {},
   "outputs": [],
   "source": [
    "textos = filmes[\"text_stemmed\"]"
   ]
  },
  {
   "cell_type": "markdown",
   "id": "220c7c10",
   "metadata": {},
   "source": [
    "## Visualiza as top 20 palavras para identificar novas stop words"
   ]
  },
  {
   "cell_type": "code",
   "execution_count": 45,
   "id": "8e61c33c",
   "metadata": {},
   "outputs": [],
   "source": [
    "dicionario = {}\n",
    "counter = 0\n",
    "def criar_dicionario( texto ):\n",
    "    global dicionario, counter\n",
    "    termos = texto.split(\" \")\n",
    "#     if counter % 1000 == 0:\n",
    "#         print(\"Executando linha: \", counter)\n",
    "    counter += 1\n",
    "    for termo in termos:\n",
    "        if termo in dicionario:\n",
    "            dicionario[termo] += 1\n",
    "        else:\n",
    "            dicionario[termo] = 1\n",
    "    return texto   "
   ]
  },
  {
   "cell_type": "code",
   "execution_count": 46,
   "id": "9fece720",
   "metadata": {
    "scrolled": false
   },
   "outputs": [
    {
     "data": {
      "text/plain": [
       "0        sr costner arrumou necessario alem terriveis s...\n",
       "1        exemplo motivo maioria acao mesmos generico ch...\n",
       "2        primeiro tudo odeio raps imbecis poderiam agir...\n",
       "3        beatles puderam escrever musicas gostassem emb...\n",
       "4        fotos latao palavra apropriada verdade tanto o...\n",
       "                               ...                        \n",
       "49454    media votos baixa fato funcionario locadora ac...\n",
       "49455    enredo algumas reviravoltas infelizes inacredi...\n",
       "49456    espantado forma maioria outros media 5 estrela...\n",
       "49457    christmas together veio antes criado john denv...\n",
       "49458    drama romantico classe trabalhadora diretor ma...\n",
       "Name: texto_no_stopwords, Length: 49459, dtype: object"
      ]
     },
     "execution_count": 46,
     "metadata": {},
     "output_type": "execute_result"
    }
   ],
   "source": [
    "textos.apply(criar_dicionario)"
   ]
  },
  {
   "cell_type": "code",
   "execution_count": 47,
   "id": "81babca3",
   "metadata": {},
   "outputs": [
    {
     "data": {
      "text/plain": [
       "157490"
      ]
     },
     "execution_count": 47,
     "metadata": {},
     "output_type": "execute_result"
    }
   ],
   "source": [
    "len(dicionario.keys())"
   ]
  },
  {
   "cell_type": "code",
   "execution_count": 36,
   "id": "c881652f",
   "metadata": {},
   "outputs": [],
   "source": [
    "dicionario_df = pd.DataFrame( {\"palavras\": list(dicionario.keys()), \"frequencias\": list(dicionario.values()) } )"
   ]
  },
  {
   "cell_type": "code",
   "execution_count": 37,
   "id": "798501bd",
   "metadata": {},
   "outputs": [],
   "source": [
    "top_20 = dicionario_df.nlargest(columns=\"frequencias\", n=20)"
   ]
  },
  {
   "cell_type": "code",
   "execution_count": 38,
   "id": "7bae367d",
   "metadata": {},
   "outputs": [
    {
     "data": {
      "text/plain": [
       "<BarContainer object of 20 artists>"
      ]
     },
     "execution_count": 38,
     "metadata": {},
     "output_type": "execute_result"
    },
    {
     "data": {
      "image/png": "[encoded data removed]",
      "text/plain": [
       "<Figure size 1500x1000 with 1 Axes>"
      ]
     },
     "metadata": {},
     "output_type": "display_data"
    }
   ],
   "source": [
    "plt.figure(figsize=[15, 10])\n",
    "plt.barh(top_20[\"palavras\"], top_20[\"frequencias\"])"
   ]
  },
  {
   "cell_type": "markdown",
   "id": "50c1bc5a",
   "metadata": {},
   "source": [
    "## Trabalha a rede neural para fazer o processo de classificação"
   ]
  },
  {
   "cell_type": "code",
   "execution_count": 39,
   "id": "7d891f04",
   "metadata": {},
   "outputs": [],
   "source": [
    "from sklearn.feature_extraction.text import CountVectorizer\n",
    "vetorizador = CountVectorizer(lowercase=False, max_features=200)\n",
    "bow = vetorizador.fit_transform(textos)\n",
    "vocabulario = vetorizador.get_feature_names_out()\n",
    "bow_matrix = pd.DataFrame.sparse.from_spmatrix(bow, columns=vetorizador.get_feature_names_out())"
   ]
  },
  {
   "cell_type": "code",
   "execution_count": 40,
   "id": "e3aa804a",
   "metadata": {},
   "outputs": [],
   "source": [
    "from sklearn.model_selection import train_test_split\n",
    "filmes_treino, filmes_teste, filmes_treino_classe, filmes_teste_classe = \\\n",
    "train_test_split(bow_matrix, filmes[\"classify\"], random_state=10)"
   ]
  },
  {
   "cell_type": "code",
   "execution_count": 41,
   "id": "8e5b9157",
   "metadata": {},
   "outputs": [
    {
     "data": {
      "text/html": [
       "<style>#sk-container-id-2 {color: black;}#sk-container-id-2 pre{padding: 0;}#sk-container-id-2 div.sk-toggleable {background-color: white;}#sk-container-id-2 label.sk-toggleable__label {cursor: pointer;display: block;width: 100%;margin-bottom: 0;padding: 0.3em;box-sizing: border-box;text-align: center;}#sk-container-id-2 label.sk-toggleable__label-arrow:before {content: \"▸\";float: left;margin-right: 0.25em;color: #696969;}#sk-container-id-2 label.sk-toggleable__label-arrow:hover:before {color: black;}#sk-container-id-2 div.sk-estimator:hover label.sk-toggleable__label-arrow:before {color: black;}#sk-container-id-2 div.sk-toggleable__content {max-height: 0;max-width: 0;overflow: hidden;text-align: left;background-color: #f0f8ff;}#sk-container-id-2 div.sk-toggleable__content pre {margin: 0.2em;color: black;border-radius: 0.25em;background-color: #f0f8ff;}#sk-container-id-2 input.sk-toggleable__control:checked~div.sk-toggleable__content {max-height: 200px;max-width: 100%;overflow: auto;}#sk-container-id-2 input.sk-toggleable__control:checked~label.sk-toggleable__label-arrow:before {content: \"▾\";}#sk-container-id-2 div.sk-estimator input.sk-toggleable__control:checked~label.sk-toggleable__label {background-color: #d4ebff;}#sk-container-id-2 div.sk-label input.sk-toggleable__control:checked~label.sk-toggleable__label {background-color: #d4ebff;}#sk-container-id-2 input.sk-hidden--visually {border: 0;clip: rect(1px 1px 1px 1px);clip: rect(1px, 1px, 1px, 1px);height: 1px;margin: -1px;overflow: hidden;padding: 0;position: absolute;width: 1px;}#sk-container-id-2 div.sk-estimator {font-family: monospace;background-color: #f0f8ff;border: 1px dotted black;border-radius: 0.25em;box-sizing: border-box;margin-bottom: 0.5em;}#sk-container-id-2 div.sk-estimator:hover {background-color: #d4ebff;}#sk-container-id-2 div.sk-parallel-item::after {content: \"\";width: 100%;border-bottom: 1px solid gray;flex-grow: 1;}#sk-container-id-2 div.sk-label:hover label.sk-toggleable__label {background-color: #d4ebff;}#sk-container-id-2 div.sk-serial::before {content: \"\";position: absolute;border-left: 1px solid gray;box-sizing: border-box;top: 0;bottom: 0;left: 50%;z-index: 0;}#sk-container-id-2 div.sk-serial {display: flex;flex-direction: column;align-items: center;background-color: white;padding-right: 0.2em;padding-left: 0.2em;position: relative;}#sk-container-id-2 div.sk-item {position: relative;z-index: 1;}#sk-container-id-2 div.sk-parallel {display: flex;align-items: stretch;justify-content: center;background-color: white;position: relative;}#sk-container-id-2 div.sk-item::before, #sk-container-id-2 div.sk-parallel-item::before {content: \"\";position: absolute;border-left: 1px solid gray;box-sizing: border-box;top: 0;bottom: 0;left: 50%;z-index: -1;}#sk-container-id-2 div.sk-parallel-item {display: flex;flex-direction: column;z-index: 1;position: relative;background-color: white;}#sk-container-id-2 div.sk-parallel-item:first-child::after {align-self: flex-end;width: 50%;}#sk-container-id-2 div.sk-parallel-item:last-child::after {align-self: flex-start;width: 50%;}#sk-container-id-2 div.sk-parallel-item:only-child::after {width: 0;}#sk-container-id-2 div.sk-dashed-wrapped {border: 1px dashed gray;margin: 0 0.4em 0.5em 0.4em;box-sizing: border-box;padding-bottom: 0.4em;background-color: white;}#sk-container-id-2 div.sk-label label {font-family: monospace;font-weight: bold;display: inline-block;line-height: 1.2em;}#sk-container-id-2 div.sk-label-container {text-align: center;}#sk-container-id-2 div.sk-container {/* jupyter's `normalize.less` sets `[hidden] { display: none; }` but bootstrap.min.css set `[hidden] { display: none !important; }` so we also need the `!important` here to be able to override the default hidden behavior on the sphinx rendered scikit-learn.org. See: https://github.com/scikit-learn/scikit-learn/issues/21755 */display: inline-block !important;position: relative;}#sk-container-id-2 div.sk-text-repr-fallback {display: none;}</style><div id=\"sk-container-id-2\" class=\"sk-top-container\"><div class=\"sk-text-repr-fallback\"><pre>LogisticRegression(solver=&#x27;newton-cholesky&#x27;)</pre><b>In a Jupyter environment, please rerun this cell to show the HTML representation or trust the notebook. <br />On GitHub, the HTML representation is unable to render, please try loading this page with nbviewer.org.</b></div><div class=\"sk-container\" hidden><div class=\"sk-item\"><div class=\"sk-estimator sk-toggleable\"><input class=\"sk-toggleable__control sk-hidden--visually\" id=\"sk-estimator-id-2\" type=\"checkbox\" checked><label for=\"sk-estimator-id-2\" class=\"sk-toggleable__label sk-toggleable__label-arrow\">LogisticRegression</label><div class=\"sk-toggleable__content\"><pre>LogisticRegression(solver=&#x27;newton-cholesky&#x27;)</pre></div></div></div></div></div>"
      ],
      "text/plain": [
       "LogisticRegression(solver='newton-cholesky')"
      ]
     },
     "execution_count": 41,
     "metadata": {},
     "output_type": "execute_result"
    }
   ],
   "source": [
    "from sklearn.linear_model import LogisticRegression\n",
    "reg_log = LogisticRegression(solver=\"newton-cholesky\")\n",
    "reg_log.fit(filmes_treino, filmes_treino_classe)"
   ]
  },
  {
   "cell_type": "code",
   "execution_count": 42,
   "id": "6bc216ee",
   "metadata": {},
   "outputs": [
    {
     "data": {
      "text/plain": [
       "0.7983825313384553"
      ]
     },
     "execution_count": 42,
     "metadata": {},
     "output_type": "execute_result"
    }
   ],
   "source": [
    "reg_log.score(filmes_teste, filmes_teste_classe)"
   ]
  },
  {
   "cell_type": "code",
   "execution_count": null,
   "id": "7b61ab7c",
   "metadata": {},
   "outputs": [],
   "source": []
  }
 ],
 "metadata": {
  "kernelspec": {
   "display_name": "Python 3 (ipykernel)",
   "language": "python",
   "name": "python3"
  },
  "language_info": {
   "codemirror_mode": {
    "name": "ipython",
    "version": 3
   },
   "file_extension": ".py",
   "mimetype": "text/x-python",
   "name": "python",
   "nbconvert_exporter": "python",
   "pygments_lexer": "ipython3",
   "version": "3.11.4"
  }
 },
 "nbformat": 4,
 "nbformat_minor": 5
}
