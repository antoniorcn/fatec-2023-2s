{
 "cells": [
  {
   "cell_type": "code",
   "execution_count": 2,
   "id": "4b74b12a",
   "metadata": {},
   "outputs": [],
   "source": [
    "import random as rnd"
   ]
  },
  {
   "cell_type": "code",
   "execution_count": 12,
   "id": "8c1c6e33",
   "metadata": {},
   "outputs": [
    {
     "data": {
      "text/plain": [
       "97"
      ]
     },
     "execution_count": 12,
     "metadata": {},
     "output_type": "execute_result"
    }
   ],
   "source": [
    "int(rnd.random() * 50) + 50"
   ]
  },
  {
   "cell_type": "code",
   "execution_count": 19,
   "id": "5c831863",
   "metadata": {},
   "outputs": [
    {
     "data": {
      "text/plain": [
       "2"
      ]
     },
     "execution_count": 19,
     "metadata": {},
     "output_type": "execute_result"
    }
   ],
   "source": [
    "rnd.randint(0, 10)"
   ]
  },
  {
   "cell_type": "code",
   "execution_count": null,
   "id": "833fb75c",
   "metadata": {},
   "outputs": [],
   "source": [
    "\"\"\"\n",
    "Crie um programa que gere uma lista contendo 100 números aleatórios, e exiba esta lista na tela.\n",
    "Usando como base o programa Anterior - Lista de números aleatórios, adicione um código para pedir ao usuário que digite um número, e depois mostre se este número encontra-se ou não na lista de números aleatórios.\n",
    "Usando como base o programa para - Verificar se o número encontra-se na lista, adicione um código para informar quantas ocorrências deste número existem na lista.\n",
    "\n",
    "Exemplo:\n",
    "    Imagine a lista contendo os seguintes números [10, 20, 5, 6, 3, 10, 7, 9, 1, 5, 10 ...]\n",
    "    Se o usuário digitar o número 5 o programa deve informar que este número encontra-se na lista e deve dizer que há 2 ocorrências deste número na lista.\n",
    "    Se o usuário digitar o número 10 o programa deve informar que este número encontra-se na lista e deve dizer que há 3 ocorrências deste número na lista.\n",
    "\"\"\""
   ]
  },
  {
   "cell_type": "code",
   "execution_count": 28,
   "id": "b5fba326",
   "metadata": {},
   "outputs": [],
   "source": [
    "numeros = [rnd.randint(0, 200) for x in range(100)] "
   ]
  },
  {
   "cell_type": "code",
   "execution_count": 30,
   "id": "25773d5f",
   "metadata": {},
   "outputs": [
    {
     "name": "stdout",
     "output_type": "stream",
     "text": [
      "17, 32, 45, 132, 129, 19, 4, 164, 77, 40, 47, 185, 117, 175, 174, 14, 5, 122, 122, 32, 118, 156, 59, 4, 44, 43, 16, 191, 90, 162, 64, 188, 113, 179, 95, 43, 49, 4, 14, 37, 119, 1, 146, 162, 24, 196, 81, 198, 167, 166, 78, 73, 92, 162, 48, 182, 82, 96, 101, 146, 178, 61, 84, 182, 160, 53, 165, 35, 94, 132, 135, 53, 99, 30, 63, 7, 137, 167, 8, 35, 89, 69, 56, 194, 126, 2, 87, 108, 35, 145, 200, 63, 150, 133, 36, 114, 97, 112, 115, 170, "
     ]
    }
   ],
   "source": [
    "for n in numeros:\n",
    "    print( n, end=\", \")"
   ]
  },
  {
   "cell_type": "code",
   "execution_count": 34,
   "id": "65ab22f2",
   "metadata": {},
   "outputs": [
    {
     "name": "stdout",
     "output_type": "stream",
     "text": [
      "Digite um numero50\n"
     ]
    }
   ],
   "source": [
    "numero = int(input(\"Digite um numero\"))"
   ]
  },
  {
   "cell_type": "code",
   "execution_count": 27,
   "id": "959cc558",
   "metadata": {},
   "outputs": [
    {
     "data": {
      "text/plain": [
       "40"
      ]
     },
     "execution_count": 27,
     "metadata": {},
     "output_type": "execute_result"
    }
   ],
   "source": [
    "numero"
   ]
  },
  {
   "cell_type": "code",
   "execution_count": 35,
   "id": "f605cf01",
   "metadata": {},
   "outputs": [
    {
     "name": "stdout",
     "output_type": "stream",
     "text": [
      "0\n"
     ]
    }
   ],
   "source": [
    "count = 0\n",
    "for n in numeros:\n",
    "    if n == numero:\n",
    "        count += 1\n",
    "print(count)"
   ]
  },
  {
   "cell_type": "code",
   "execution_count": 36,
   "id": "53176367",
   "metadata": {},
   "outputs": [],
   "source": [
    "# Identificar qual é o maior e o menor numero da lista"
   ]
  },
  {
   "cell_type": "code",
   "execution_count": 37,
   "id": "9d3f5087",
   "metadata": {},
   "outputs": [
    {
     "name": "stdout",
     "output_type": "stream",
     "text": [
      "17, 32, 45, 132, 129, 19, 4, 164, 77, 40, 47, 185, 117, 175, 174, 14, 5, 122, 122, 32, 118, 156, 59, 4, 44, 43, 16, 191, 90, 162, 64, 188, 113, 179, 95, 43, 49, 4, 14, 37, 119, 1, 146, 162, 24, 196, 81, 198, 167, 166, 78, 73, 92, 162, 48, 182, 82, 96, 101, 146, 178, 61, 84, 182, 160, 53, 165, 35, 94, 132, 135, 53, 99, 30, 63, 7, 137, 167, 8, 35, 89, 69, 56, 194, 126, 2, 87, 108, 35, 145, 200, 63, 150, 133, 36, 114, 97, 112, 115, 170, "
     ]
    }
   ],
   "source": [
    "for n in numeros:\n",
    "    print( n, end=\", \")"
   ]
  },
  {
   "cell_type": "code",
   "execution_count": 39,
   "id": "ad688f55",
   "metadata": {},
   "outputs": [
    {
     "name": "stdout",
     "output_type": "stream",
     "text": [
      "Maior:  200\n",
      "Menor:  1\n"
     ]
    }
   ],
   "source": [
    "maior = numeros[0]\n",
    "menor = numeros[0]\n",
    "for numero in numeros:\n",
    "    if numero > maior:\n",
    "        maior = numero\n",
    "    if numero < menor:\n",
    "        menor = numero\n",
    "\n",
    "print(\"Maior: \", maior)\n",
    "print(\"Menor: \", menor)"
   ]
  },
  {
   "cell_type": "code",
   "execution_count": null,
   "id": "cd41c247",
   "metadata": {},
   "outputs": [],
   "source": []
  }
 ],
 "metadata": {
  "kernelspec": {
   "display_name": "Python 3 (ipykernel)",
   "language": "python",
   "name": "python3"
  },
  "language_info": {
   "codemirror_mode": {
    "name": "ipython",
    "version": 3
   },
   "file_extension": ".py",
   "mimetype": "text/x-python",
   "name": "python",
   "nbconvert_exporter": "python",
   "pygments_lexer": "ipython3",
   "version": "3.10.9"
  }
 },
 "nbformat": 4,
 "nbformat_minor": 5
}
