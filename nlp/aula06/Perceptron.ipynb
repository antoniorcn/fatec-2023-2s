{
 "cells": [
  {
   "cell_type": "code",
   "execution_count": 15,
   "id": "8bc89368",
   "metadata": {},
   "outputs": [],
   "source": [
    "import numpy as np\n",
    "import matplotlib.pyplot as plt"
   ]
  },
  {
   "cell_type": "code",
   "execution_count": 41,
   "id": "467d02ea",
   "metadata": {},
   "outputs": [],
   "source": [
    "def funcao_ativacao( valores ):\n",
    "    return 1 if valor > 1 else 0\n",
    "#     if valor > 1:\n",
    "#         return 1\n",
    "#     else:\n",
    "#         return 0"
   ]
  },
  {
   "cell_type": "code",
   "execution_count": 21,
   "id": "e9176526",
   "metadata": {},
   "outputs": [
    {
     "data": {
      "text/plain": [
       "array([150000, 250000, 450000])"
      ]
     },
     "execution_count": 21,
     "metadata": {},
     "output_type": "execute_result"
    }
   ],
   "source": [
    "comprar[:, 0]"
   ]
  },
  {
   "cell_type": "code",
   "execution_count": 27,
   "id": "889781a3",
   "metadata": {},
   "outputs": [
    {
     "data": {
      "text/plain": [
       "<matplotlib.legend.Legend at 0x247238e00d0>"
      ]
     },
     "execution_count": 27,
     "metadata": {},
     "output_type": "execute_result"
    },
    {
     "data": {
      "image/png": "[encoded data removed]",
      "text/plain": [
       "<Figure size 640x480 with 1 Axes>"
      ]
     },
     "metadata": {},
     "output_type": "display_data"
    }
   ],
   "source": [
    "plt.scatter(comprar[:, 0], comprar[:, 1], label=\"Comprar\")\n",
    "plt.scatter(nao_comprar[:, 0], nao_comprar[:, 1], label=\"Não Comprar\")\n",
    "plt.legend()"
   ]
  },
  {
   "cell_type": "code",
   "execution_count": 28,
   "id": "f4e371ff",
   "metadata": {},
   "outputs": [
    {
     "data": {
      "text/plain": [
       "array([0.39575034, 0.18650636])"
      ]
     },
     "execution_count": 28,
     "metadata": {},
     "output_type": "execute_result"
    }
   ],
   "source": [
    "pesos = np.random.random([2])\n",
    "pesos"
   ]
  },
  {
   "cell_type": "code",
   "execution_count": 59,
   "id": "b8033e71",
   "metadata": {},
   "outputs": [
    {
     "data": {
      "text/plain": [
       "19789.382095934165"
      ]
     },
     "execution_count": 59,
     "metadata": {},
     "output_type": "execute_result"
    }
   ],
   "source": [
    "soma = (pesos[0] * casas[1, 0]) + (pesos[1] * casas[1, 1])\n",
    "soma"
   ]
  },
  {
   "cell_type": "markdown",
   "id": "d886b592",
   "metadata": {},
   "source": [
    "# Codigo organizado para fazer o calculo dos pesos da rede Perceptron"
   ]
  },
  {
   "cell_type": "code",
   "execution_count": 94,
   "id": "59cc93ab",
   "metadata": {},
   "outputs": [
    {
     "data": {
      "text/plain": [
       "array([[ 150000,      35,       1],\n",
       "       [  50000,      10,       0],\n",
       "       [ 250000,      40,       1],\n",
       "       [ 300000,      20,       0],\n",
       "       [ 450000,      50,       1],\n",
       "       [1500000,     100,       0]])"
      ]
     },
     "execution_count": 94,
     "metadata": {},
     "output_type": "execute_result"
    }
   ],
   "source": [
    "casas = np.array([ [150000, 35, 1], [50000, 10, 0], [250000, 40, 1], [300000, 20, 0], [450000, 50, 1], [1500000, 100, 0]  ])\n",
    "casas"
   ]
  },
  {
   "cell_type": "code",
   "execution_count": 95,
   "id": "a48c635f",
   "metadata": {},
   "outputs": [
    {
     "data": {
      "text/plain": [
       "array([[ 150000,      35],\n",
       "       [  50000,      10],\n",
       "       [ 250000,      40],\n",
       "       [ 300000,      20],\n",
       "       [ 450000,      50],\n",
       "       [1500000,     100]])"
      ]
     },
     "execution_count": 95,
     "metadata": {},
     "output_type": "execute_result"
    }
   ],
   "source": [
    "criterios_casas = casas[:, 0:2]\n",
    "criterios_casas"
   ]
  },
  {
   "cell_type": "code",
   "execution_count": 96,
   "id": "9f2dc93d",
   "metadata": {},
   "outputs": [],
   "source": [
    "casas_comprar = np.where( casas[:, 2] == 1 )\n",
    "casas_nao_comprar = np.where( casas[:, 2] == 0 )\n",
    "\n",
    "comprar = casas[casas_comprar]\n",
    "nao_comprar = casas[casas_nao_comprar]"
   ]
  },
  {
   "cell_type": "code",
   "execution_count": 97,
   "id": "d48ec9b0",
   "metadata": {},
   "outputs": [],
   "source": [
    "def funcao_ativacao( valores ):\n",
    "    return np.where( valores > 0, 1, 0 )"
   ]
  },
  {
   "cell_type": "code",
   "execution_count": 99,
   "id": "a7cc87c6",
   "metadata": {},
   "outputs": [],
   "source": [
    "def fit(X, y, iteracoes=100, taxa_aprendizagem = 0.01):\n",
    "    # X => Dados de entrada treinamento\n",
    "    # y => Valores corretos para o treinamento\n",
    "    _, qtd_criterios = X.shape\n",
    "    pesos = np.random.random([qtd_criterios])\n",
    "    print(\"Pesos iniciais para {} criterios: {}\".format(qtd_criterios, pesos))\n",
    "    for iteracao in range(iteracoes):\n",
    "        somas = np.dot(X, pesos)\n",
    "        valores_previstos = funcao_ativacao(somas)\n",
    "        erros = y - valores_previstos\n",
    "        # print(\"Lista de erros: {}\".format(erros))\n",
    "        for indice, erro in enumerate(erros):\n",
    "            for c in range(qtd_criterios):\n",
    "                pesos[c] = pesos[c] + (erro * taxa_aprendizagem * X[indice, c])\n",
    "    return pesos\n",
    "    \n",
    "    "
   ]
  },
  {
   "cell_type": "code",
   "execution_count": 133,
   "id": "e23fb0fb",
   "metadata": {},
   "outputs": [
    {
     "name": "stdout",
     "output_type": "stream",
     "text": [
      "Pesos iniciais para 2 criterios: [0.23981606 0.8543246 ]\n"
     ]
    },
    {
     "data": {
      "text/plain": [
       "array([-4999.76018394,   447.6043246 ])"
      ]
     },
     "execution_count": 133,
     "metadata": {},
     "output_type": "execute_result"
    }
   ],
   "source": [
    "p = fit(criterios_casas, casas[:, 2], iteracoes=1000)\n",
    "p"
   ]
  },
  {
   "cell_type": "code",
   "execution_count": 134,
   "id": "2cd10dbf",
   "metadata": {},
   "outputs": [],
   "source": [
    "valores_aleatorios = np.random.randint(50000, high=2000000, size=(10,))"
   ]
  },
  {
   "cell_type": "code",
   "execution_count": 135,
   "id": "36eaa220",
   "metadata": {},
   "outputs": [],
   "source": [
    "metragens_aleatorias = np.random.randint(10, high=200, size=(10,))"
   ]
  },
  {
   "cell_type": "code",
   "execution_count": 150,
   "id": "2dc66b97",
   "metadata": {},
   "outputs": [
    {
     "data": {
      "text/plain": [
       "array([[1671789,      69],\n",
       "       [1955543,     179],\n",
       "       [1687174,      98],\n",
       "       [ 818125,      84],\n",
       "       [ 486308,     128],\n",
       "       [1525974,     178],\n",
       "       [  86323,      54],\n",
       "       [ 961064,     106],\n",
       "       [ 744363,      60],\n",
       "       [1379283,      35]])"
      ]
     },
     "execution_count": 150,
     "metadata": {},
     "output_type": "execute_result"
    }
   ],
   "source": [
    "teste = np.vstack([valores_aleatorios, metragens_aleatorias]).T\n",
    "teste"
   ]
  },
  {
   "cell_type": "code",
   "execution_count": 151,
   "id": "66f66022",
   "metadata": {},
   "outputs": [],
   "source": [
    "def predict(X, pesos):\n",
    "    somas = np.dot(X, pesos)\n",
    "    valores_previstos = funcao_ativacao(somas)\n",
    "    return valores_previstos"
   ]
  },
  {
   "cell_type": "code",
   "execution_count": 152,
   "id": "48593388",
   "metadata": {},
   "outputs": [
    {
     "data": {
      "text/plain": [
       "array([0, 0, 0, 0, 0, 0, 0, 0, 0, 0])"
      ]
     },
     "execution_count": 152,
     "metadata": {},
     "output_type": "execute_result"
    }
   ],
   "source": [
    "resultado = predict(teste, p)\n",
    "resultado"
   ]
  },
  {
   "cell_type": "code",
   "execution_count": 153,
   "id": "4e51e9d5",
   "metadata": {},
   "outputs": [
    {
     "data": {
      "text/plain": [
       "array([[1671789,      69,       0],\n",
       "       [1955543,     179,       0],\n",
       "       [1687174,      98,       0],\n",
       "       [ 818125,      84,       0],\n",
       "       [ 486308,     128,       0],\n",
       "       [1525974,     178,       0],\n",
       "       [  86323,      54,       0],\n",
       "       [ 961064,     106,       0],\n",
       "       [ 744363,      60,       0],\n",
       "       [1379283,      35,       0]])"
      ]
     },
     "execution_count": 153,
     "metadata": {},
     "output_type": "execute_result"
    }
   ],
   "source": [
    "resultado_final = np.vstack([valores_aleatorios, metragens_aleatorias, resultado]).T\n",
    "resultado_final"
   ]
  },
  {
   "cell_type": "code",
   "execution_count": 154,
   "id": "ce4d4640",
   "metadata": {},
   "outputs": [],
   "source": [
    "casas_teste_comprar = np.where( resultado_final[:, 2] == 1 )\n",
    "casas_teste_nao_comprar = np.where( resultado_final[:, 2] == 0 )\n",
    "\n",
    "comprar_teste = resultado_final[casas_teste_comprar]\n",
    "nao_comprar_teste = resultado_final[casas_teste_nao_comprar]"
   ]
  },
  {
   "cell_type": "code",
   "execution_count": 155,
   "id": "7afc3088",
   "metadata": {},
   "outputs": [
    {
     "data": {
      "text/plain": [
       "<matplotlib.legend.Legend at 0x247264736d0>"
      ]
     },
     "execution_count": 155,
     "metadata": {},
     "output_type": "execute_result"
    },
    {
     "data": {
      "image/png": "[encoded data removed]",
      "text/plain": [
       "<Figure size 640x480 with 1 Axes>"
      ]
     },
     "metadata": {},
     "output_type": "display_data"
    }
   ],
   "source": [
    "plt.scatter(comprar[:, 0], comprar[:, 1], label=\"TREINAMENTO Comprar\")\n",
    "plt.scatter(nao_comprar[:, 0], nao_comprar[:, 1], label=\"TREINAMENTO Não Comprar\")\n",
    "plt.scatter(comprar_teste[:, 0], comprar_teste[:, 1], label=\"PREVISAO Comprar\")\n",
    "plt.scatter(nao_comprar_teste[:, 0], nao_comprar_teste[:, 1], label=\"PREVISAO Não Comprar\")\n",
    "plt.legend()"
   ]
  },
  {
   "cell_type": "code",
   "execution_count": null,
   "id": "3e72868d",
   "metadata": {},
   "outputs": [],
   "source": []
  }
 ],
 "metadata": {
  "kernelspec": {
   "display_name": "Python 3 (ipykernel)",
   "language": "python",
   "name": "python3"
  },
  "language_info": {
   "codemirror_mode": {
    "name": "ipython",
    "version": 3
   },
   "file_extension": ".py",
   "mimetype": "text/x-python",
   "name": "python",
   "nbconvert_exporter": "python",
   "pygments_lexer": "ipython3",
   "version": "3.11.4"
  }
 },
 "nbformat": 4,
 "nbformat_minor": 5
}
