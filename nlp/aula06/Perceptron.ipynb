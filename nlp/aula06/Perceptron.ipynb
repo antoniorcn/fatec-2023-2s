{
 "cells": [
  {
   "cell_type": "code",
   "execution_count": null,
   "id": "a75d7063",
   "metadata": {},
   "outputs": [],
   "source": [
    "def funcao_ativacao( valor ):\n",
    "    return valor > 1\n",
    "#     if valor > 1:\n",
    "#         return 1\n",
    "#     else:\n",
    "#         return 0"
   ]
  }
 ],
 "metadata": {
  "kernelspec": {
   "display_name": "Python 3 (ipykernel)",
   "language": "python",
   "name": "python3"
  },
  "language_info": {
   "codemirror_mode": {
    "name": "ipython",
    "version": 3
   },
   "file_extension": ".py",
   "mimetype": "text/x-python",
   "name": "python",
   "nbconvert_exporter": "python",
   "pygments_lexer": "ipython3",
   "version": "3.11.4"
  }
 },
 "nbformat": 4,
 "nbformat_minor": 5
}
