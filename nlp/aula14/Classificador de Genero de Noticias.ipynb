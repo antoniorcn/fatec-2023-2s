{
 "cells": [
  {
   "cell_type": "code",
   "execution_count": 1,
   "id": "45bcbd45",
   "metadata": {},
   "outputs": [],
   "source": [
    "import pandas as pd\n",
    "import json\n",
    "import string\n",
    "import nltk\n",
    "import matplotlib.pyplot as plt\n",
    "from sklearn.feature_extraction.text import TfidfVectorizer, CountVectorizer\n",
    "from sklearn.linear_model import LogisticRegression\n",
    "from sklearn.svm import LinearSVC, SVC\n",
    "from sklearn.naive_bayes import MultinomialNB\n",
    "from sklearn.model_selection import train_test_split"
   ]
  },
  {
   "cell_type": "code",
   "execution_count": 2,
   "id": "7a4a4184",
   "metadata": {},
   "outputs": [
    {
     "name": "stderr",
     "output_type": "stream",
     "text": [
      "[nltk_data] Downloading package stopwords to\n",
      "[nltk_data]     C:\\Users\\Antonio\\AppData\\Roaming\\nltk_data...\n",
      "[nltk_data]   Package stopwords is already up-to-date!\n"
     ]
    },
    {
     "data": {
      "text/plain": [
       "True"
      ]
     },
     "execution_count": 2,
     "metadata": {},
     "output_type": "execute_result"
    }
   ],
   "source": [
    "nltk.download('stopwords')"
   ]
  },
  {
   "cell_type": "code",
   "execution_count": 3,
   "id": "ab6dcd59",
   "metadata": {},
   "outputs": [],
   "source": [
    "pd.set_option('mode.chained_assignment', None)"
   ]
  },
  {
   "cell_type": "code",
   "execution_count": 6,
   "id": "424c017b",
   "metadata": {
    "scrolled": true
   },
   "outputs": [],
   "source": [
    "noticias = pd.read_csv(\"../../../dados/bbc-text.csv\")"
   ]
  },
  {
   "cell_type": "code",
   "execution_count": 18,
   "id": "761f6fdb",
   "metadata": {},
   "outputs": [
    {
     "data": {
      "text/html": [
       "<div>\n",
       "<style scoped>\n",
       "    .dataframe tbody tr th:only-of-type {\n",
       "        vertical-align: middle;\n",
       "    }\n",
       "\n",
       "    .dataframe tbody tr th {\n",
       "        vertical-align: top;\n",
       "    }\n",
       "\n",
       "    .dataframe thead th {\n",
       "        text-align: right;\n",
       "    }\n",
       "</style>\n",
       "<table border=\"1\" class=\"dataframe\">\n",
       "  <thead>\n",
       "    <tr style=\"text-align: right;\">\n",
       "      <th></th>\n",
       "      <th>category</th>\n",
       "      <th>text</th>\n",
       "      <th>text_no_enter</th>\n",
       "      <th>text_no_contractions</th>\n",
       "    </tr>\n",
       "  </thead>\n",
       "  <tbody>\n",
       "    <tr>\n",
       "      <th>0</th>\n",
       "      <td>tech</td>\n",
       "      <td>tv future in the hands of viewers with home th...</td>\n",
       "      <td>tv future in the hands of viewers with home th...</td>\n",
       "      <td>tv future in the hands of viewers with home th...</td>\n",
       "    </tr>\n",
       "    <tr>\n",
       "      <th>1</th>\n",
       "      <td>business</td>\n",
       "      <td>worldcom boss  left books alone  former worldc...</td>\n",
       "      <td>worldcom boss  left books alone  former worldc...</td>\n",
       "      <td>worldcom boss  left books alone  former worldc...</td>\n",
       "    </tr>\n",
       "    <tr>\n",
       "      <th>2</th>\n",
       "      <td>sport</td>\n",
       "      <td>tigers wary of farrell  gamble  leicester say ...</td>\n",
       "      <td>tigers wary of farrell  gamble  leicester say ...</td>\n",
       "      <td>tigers wary of farrell  gamble  leicester say ...</td>\n",
       "    </tr>\n",
       "    <tr>\n",
       "      <th>3</th>\n",
       "      <td>sport</td>\n",
       "      <td>yeading face newcastle in fa cup premiership s...</td>\n",
       "      <td>yeading face newcastle in fa cup premiership s...</td>\n",
       "      <td>yeading face newcastle in fa cup premiership s...</td>\n",
       "    </tr>\n",
       "    <tr>\n",
       "      <th>4</th>\n",
       "      <td>entertainment</td>\n",
       "      <td>ocean s twelve raids box office ocean s twelve...</td>\n",
       "      <td>ocean s twelve raids box office ocean s twelve...</td>\n",
       "      <td>ocean s twelve raids box office ocean s twelve...</td>\n",
       "    </tr>\n",
       "    <tr>\n",
       "      <th>...</th>\n",
       "      <td>...</td>\n",
       "      <td>...</td>\n",
       "      <td>...</td>\n",
       "      <td>...</td>\n",
       "    </tr>\n",
       "    <tr>\n",
       "      <th>2220</th>\n",
       "      <td>business</td>\n",
       "      <td>cars pull down us retail figures us retail sal...</td>\n",
       "      <td>cars pull down us retail figures us retail sal...</td>\n",
       "      <td>cars pull down us retail figures us retail sal...</td>\n",
       "    </tr>\n",
       "    <tr>\n",
       "      <th>2221</th>\n",
       "      <td>politics</td>\n",
       "      <td>kilroy unveils immigration policy ex-chatshow ...</td>\n",
       "      <td>kilroy unveils immigration policy ex-chatshow ...</td>\n",
       "      <td>kilroy unveils immigration policy ex-chatshow ...</td>\n",
       "    </tr>\n",
       "    <tr>\n",
       "      <th>2222</th>\n",
       "      <td>entertainment</td>\n",
       "      <td>rem announce new glasgow concert us band rem h...</td>\n",
       "      <td>rem announce new glasgow concert us band rem h...</td>\n",
       "      <td>rem announce new glasgow concert us band rem h...</td>\n",
       "    </tr>\n",
       "    <tr>\n",
       "      <th>2223</th>\n",
       "      <td>politics</td>\n",
       "      <td>how political squabbles snowball it s become c...</td>\n",
       "      <td>how political squabbles snowball it s become c...</td>\n",
       "      <td>how political squabbles snowball it s become c...</td>\n",
       "    </tr>\n",
       "    <tr>\n",
       "      <th>2224</th>\n",
       "      <td>sport</td>\n",
       "      <td>souness delight at euro progress boss graeme s...</td>\n",
       "      <td>souness delight at euro progress boss graeme s...</td>\n",
       "      <td>souness delight at euro progress boss graeme s...</td>\n",
       "    </tr>\n",
       "  </tbody>\n",
       "</table>\n",
       "<p>2225 rows × 4 columns</p>\n",
       "</div>"
      ],
      "text/plain": [
       "           category                                               text  \\\n",
       "0              tech  tv future in the hands of viewers with home th...   \n",
       "1          business  worldcom boss  left books alone  former worldc...   \n",
       "2             sport  tigers wary of farrell  gamble  leicester say ...   \n",
       "3             sport  yeading face newcastle in fa cup premiership s...   \n",
       "4     entertainment  ocean s twelve raids box office ocean s twelve...   \n",
       "...             ...                                                ...   \n",
       "2220       business  cars pull down us retail figures us retail sal...   \n",
       "2221       politics  kilroy unveils immigration policy ex-chatshow ...   \n",
       "2222  entertainment  rem announce new glasgow concert us band rem h...   \n",
       "2223       politics  how political squabbles snowball it s become c...   \n",
       "2224          sport  souness delight at euro progress boss graeme s...   \n",
       "\n",
       "                                          text_no_enter  \\\n",
       "0     tv future in the hands of viewers with home th...   \n",
       "1     worldcom boss  left books alone  former worldc...   \n",
       "2     tigers wary of farrell  gamble  leicester say ...   \n",
       "3     yeading face newcastle in fa cup premiership s...   \n",
       "4     ocean s twelve raids box office ocean s twelve...   \n",
       "...                                                 ...   \n",
       "2220  cars pull down us retail figures us retail sal...   \n",
       "2221  kilroy unveils immigration policy ex-chatshow ...   \n",
       "2222  rem announce new glasgow concert us band rem h...   \n",
       "2223  how political squabbles snowball it s become c...   \n",
       "2224  souness delight at euro progress boss graeme s...   \n",
       "\n",
       "                                   text_no_contractions  \n",
       "0     tv future in the hands of viewers with home th...  \n",
       "1     worldcom boss  left books alone  former worldc...  \n",
       "2     tigers wary of farrell  gamble  leicester say ...  \n",
       "3     yeading face newcastle in fa cup premiership s...  \n",
       "4     ocean s twelve raids box office ocean s twelve...  \n",
       "...                                                 ...  \n",
       "2220  cars pull down us retail figures us retail sal...  \n",
       "2221  kilroy unveils immigration policy ex-chatshow ...  \n",
       "2222  rem announce new glasgow concert us band rem h...  \n",
       "2223  how political squabbles snowball it s become c...  \n",
       "2224  souness delight at euro progress boss graeme s...  \n",
       "\n",
       "[2225 rows x 4 columns]"
      ]
     },
     "execution_count": 18,
     "metadata": {},
     "output_type": "execute_result"
    }
   ],
   "source": [
    "noticias"
   ]
  },
  {
   "cell_type": "markdown",
   "id": "64be7f60",
   "metadata": {},
   "source": [
    "## Verificar quantidade de filmes por categoria"
   ]
  },
  {
   "cell_type": "code",
   "execution_count": 8,
   "id": "74ca3678",
   "metadata": {},
   "outputs": [],
   "source": [
    "generos_agrupados = noticias.groupby(\"category\").count().sort_values(ascending=True, by=\"category\")"
   ]
  },
  {
   "cell_type": "code",
   "execution_count": 10,
   "id": "bc42ab00",
   "metadata": {},
   "outputs": [
    {
     "data": {
      "text/html": [
       "<div>\n",
       "<style scoped>\n",
       "    .dataframe tbody tr th:only-of-type {\n",
       "        vertical-align: middle;\n",
       "    }\n",
       "\n",
       "    .dataframe tbody tr th {\n",
       "        vertical-align: top;\n",
       "    }\n",
       "\n",
       "    .dataframe thead th {\n",
       "        text-align: right;\n",
       "    }\n",
       "</style>\n",
       "<table border=\"1\" class=\"dataframe\">\n",
       "  <thead>\n",
       "    <tr style=\"text-align: right;\">\n",
       "      <th></th>\n",
       "      <th>text</th>\n",
       "    </tr>\n",
       "    <tr>\n",
       "      <th>category</th>\n",
       "      <th></th>\n",
       "    </tr>\n",
       "  </thead>\n",
       "  <tbody>\n",
       "    <tr>\n",
       "      <th>business</th>\n",
       "      <td>510</td>\n",
       "    </tr>\n",
       "    <tr>\n",
       "      <th>entertainment</th>\n",
       "      <td>386</td>\n",
       "    </tr>\n",
       "    <tr>\n",
       "      <th>politics</th>\n",
       "      <td>417</td>\n",
       "    </tr>\n",
       "    <tr>\n",
       "      <th>sport</th>\n",
       "      <td>511</td>\n",
       "    </tr>\n",
       "    <tr>\n",
       "      <th>tech</th>\n",
       "      <td>401</td>\n",
       "    </tr>\n",
       "  </tbody>\n",
       "</table>\n",
       "</div>"
      ],
      "text/plain": [
       "               text\n",
       "category           \n",
       "business        510\n",
       "entertainment   386\n",
       "politics        417\n",
       "sport           511\n",
       "tech            401"
      ]
     },
     "execution_count": 10,
     "metadata": {},
     "output_type": "execute_result"
    }
   ],
   "source": [
    "generos_agrupados"
   ]
  },
  {
   "cell_type": "code",
   "execution_count": 12,
   "id": "8742608d",
   "metadata": {},
   "outputs": [
    {
     "data": {
      "text/plain": [
       "<Axes: ylabel='category'>"
      ]
     },
     "execution_count": 12,
     "metadata": {},
     "output_type": "execute_result"
    },
    {
     "data": {
      "image/png": "[encoded data removed]",
      "text/plain": [
       "<Figure size 640x480 with 1 Axes>"
      ]
     },
     "metadata": {},
     "output_type": "display_data"
    }
   ],
   "source": [
    "generos_agrupados.plot.barh(y=\"text\")"
   ]
  },
  {
   "cell_type": "markdown",
   "id": "5635b5ad",
   "metadata": {},
   "source": [
    "## Remover os caracteres \\n \\r \\t"
   ]
  },
  {
   "cell_type": "code",
   "execution_count": 13,
   "id": "0da282c3",
   "metadata": {},
   "outputs": [],
   "source": [
    "trans = str.maketrans('\\n\\r\\t', '   ')\n",
    "noticias[\"text_no_enter\"] = noticias[\"text\"].str.translate(trans)"
   ]
  },
  {
   "cell_type": "markdown",
   "id": "9007476d",
   "metadata": {},
   "source": [
    "## Remover contrações em Inglês"
   ]
  },
  {
   "cell_type": "code",
   "execution_count": 15,
   "id": "c74cc975",
   "metadata": {},
   "outputs": [],
   "source": [
    "contraction_dict = {\n",
    "                    \"aren't\": \"are not\",\t\t\"can't\": \"can not\",\t\t\"could've\": \"could have\",\n",
    "                    \"couldn't\": \"could not\",\t\"daren't\": \"dare not\",\t\"didn't\": \"did not\",\n",
    "                    \"doesn't\": \"does not\",\t\t\"don't\": \"do not\",\t\t\"hadn't\": \"had not\",\n",
    "                    \"hasn't\": \"has not\",\t\t\"haven't\": \"have not\",\t\"he's\": \"he is\",\n",
    "                    \"how'd\": \"how had\",\t\t\t\"how're\": \"how are\",\t\"how's\": \"how is\",\n",
    "                    \"how've\": \"how have\",\t\t\"i'd\": \"i had\",\t\t\t\"i'm\": \"i am\",\n",
    "                    \"i've\": \"i have\",\t\t\t\"isn't\": \"is+ not\",\t\t\"it's\": \"it is\",\n",
    "                    \"might've\": \"might have\",\t\"mightn't\": \"might not\",\t\"must've\": \"must have\",\n",
    "                    \"mustn't\": \"must not\",\t\t\"needn't\": \"need not\",\t\"oughtn't\": \"ought not\",\n",
    "                    \"shan't\": \"shall not\",\t\t\"she'd\": \"she had\",\t\t\"she's\": \"she is\",\n",
    "                    \"should've\": \"should have\",\t\"shouldn't\": \"should not\",\t\"that'd\": \"that had\",\n",
    "                    \"thats's\": \"that is\",\t\t\"there'd\": \"there had\",\t\"there's\": \"there is\",\n",
    "                    \"they'd\": \"they had\",\t\t\"they're\": \"you are\",\t\"they've\": \"they have\",\n",
    "                    \"wasn't\": \"was+ not\",\t\t\"we'd\": \"we had\",\t\t\"we're\": \"we are\",\n",
    "                    \"we've\": \"we have\",\t\t\t\"weren't\": \"were not\",\t\"what'd\": \"what had\",\n",
    "                    \"what're\": \"what are\",\t\t\"what's\": \"what is\",\t\"what've\": \"what have\",\n",
    "                    \"when'd\": \"when had\",\t\t\"when're\": \"when are\",\t\"when's\": \"when is\",\n",
    "                    \"when've\": \"when have\",\t\t\"where'd\": \"where had\",\t\"where're\": \"where are\",\n",
    "                    \"where's\": \"where is\",\t\t\"where've\": \"where have\",\t\"who'd\": \"who had\",\n",
    "                    \"who're\": \"who are\",\t\t\"who's\": \"who is\",\t\t\"who've\": \"who have\",\n",
    "                    \"why'd\": \"why had\",\t\t\t\"why're\": \"why are\",\t\"why's\": \"why is\",\n",
    "                    \"why've\": \"why have\",\t\t\"would've\": \"would have\",\t\"wouldn't\": \"would not\",\n",
    "                    \"you're\": \"you are\",\t\t\"you've\": \"you have\",\t\"'cause\": \"because\", \n",
    "                    \"ain't\": \"is not\", \t\t\t\"aren't\": \"are not\",\t\"can't\": \"cannot\", \n",
    "                    \"could've\": \"could have\",\t\"he's\": \"he is\",\t\t\"how'll\": \"how will\",\n",
    "                    \"i'll\": \"i will\",\t\t\t\"it'll\": \"it will\",\t\t\"it's\": \"it is\", \n",
    "                    \"she'll\": \"she will\",\t\t\"she's\": \"she is\",\t\t\"that'll\": \"that will\",\n",
    "                    \"there'll\": \"there will\",\t\"they'll\": \"they will\",\t\"they're\": \"they are\",\n",
    "                    \"we'll\": \"we will\",\t\t\t\"we're\": \"we are\",\t\t\"what'll\": \"what will\",\n",
    "                    \"when'll\": \"when will\",\t\t\"where'll\": \"where will\",\t\"who'll\": \"who will\",\n",
    "                    \"yo're\": \"you are\",\t\t\t\"you'll\": \"you will\"\n",
    "            }"
   ]
  },
  {
   "cell_type": "code",
   "execution_count": 16,
   "id": "57c3b376",
   "metadata": {},
   "outputs": [],
   "source": [
    "def remove_contractions( text ):\n",
    "    global contraction_dict\n",
    "    if isinstance(text, str):\n",
    "        text = text.lower()\n",
    "        for contracao_chave in contraction_dict.keys():\n",
    "            contracao_valor = contraction_dict[contracao_chave]\n",
    "            text = text.replace(contracao_chave, contracao_valor)\n",
    "        text = text.replace(\"\\'s\", \" have\")\n",
    "        return text\n",
    "    else:\n",
    "        return \"\""
   ]
  },
  {
   "cell_type": "code",
   "execution_count": 17,
   "id": "d8d2fbfd",
   "metadata": {},
   "outputs": [],
   "source": [
    "noticias[\"text_no_contractions\"] = noticias[\"text_no_enter\"].apply(remove_contractions)"
   ]
  },
  {
   "cell_type": "markdown",
   "id": "ef4bb500",
   "metadata": {},
   "source": [
    "## Remover as pontuações"
   ]
  },
  {
   "cell_type": "code",
   "execution_count": 19,
   "id": "f3df7cd5",
   "metadata": {},
   "outputs": [],
   "source": [
    "trans = str.maketrans('', '', string.punctuation)\n",
    "noticias[\"text_no_punctuation\"] = noticias[\"text_no_contractions\"].str.translate(trans)"
   ]
  },
  {
   "cell_type": "markdown",
   "id": "5a0c4188",
   "metadata": {},
   "source": [
    "## Remover as stopwords"
   ]
  },
  {
   "cell_type": "code",
   "execution_count": 20,
   "id": "51b7f6d3",
   "metadata": {},
   "outputs": [],
   "source": [
    "stopwords = nltk.corpus.stopwords.words('english')"
   ]
  },
  {
   "cell_type": "code",
   "execution_count": 21,
   "id": "fbd7a954",
   "metadata": {},
   "outputs": [],
   "source": [
    "def remove_stop_words( text ):\n",
    "    novas_palavras = []\n",
    "    palavras = text.split(\" \")\n",
    "    for palavra in palavras:\n",
    "        if palavra not in stopwords:\n",
    "            novas_palavras.append(palavra)\n",
    "    return \" \".join(novas_palavras)"
   ]
  },
  {
   "cell_type": "code",
   "execution_count": 22,
   "id": "9d89b4a7",
   "metadata": {},
   "outputs": [],
   "source": [
    "noticias[\"text_no_stopwords\"] = noticias[\"text_no_punctuation\"].apply(remove_stop_words)"
   ]
  },
  {
   "cell_type": "markdown",
   "id": "83607c49",
   "metadata": {},
   "source": [
    "## Definindo variavel textos"
   ]
  },
  {
   "cell_type": "code",
   "execution_count": 23,
   "id": "759799a1",
   "metadata": {},
   "outputs": [],
   "source": [
    "textos = noticias[\"text_no_stopwords\"]"
   ]
  },
  {
   "cell_type": "markdown",
   "id": "6a2dc58e",
   "metadata": {},
   "source": [
    "## Criar o Bag of words"
   ]
  },
  {
   "cell_type": "code",
   "execution_count": 24,
   "id": "a014e71a",
   "metadata": {},
   "outputs": [],
   "source": [
    "vetorizador = CountVectorizer(max_features=1000)\n",
    "bow = vetorizador.fit_transform( textos )\n",
    "vocabulario = vetorizador.get_feature_names_out()"
   ]
  },
  {
   "cell_type": "code",
   "execution_count": 28,
   "id": "50feef31",
   "metadata": {},
   "outputs": [
    {
     "name": "stdout",
     "output_type": "stream",
     "text": [
      "(2225, 1000)\n"
     ]
    },
    {
     "data": {
      "text/plain": [
       "array([[1, 0, 0, ..., 0, 0, 0],\n",
       "       [1, 0, 0, ..., 0, 0, 0],\n",
       "       [0, 0, 0, ..., 0, 0, 0],\n",
       "       ...,\n",
       "       [1, 1, 0, ..., 0, 0, 0],\n",
       "       [1, 0, 0, ..., 0, 0, 0],\n",
       "       [0, 0, 0, ..., 0, 0, 0]], dtype=int64)"
      ]
     },
     "execution_count": 28,
     "metadata": {},
     "output_type": "execute_result"
    }
   ],
   "source": [
    "print(bow.shape)\n",
    "bow.toarray()"
   ]
  },
  {
   "cell_type": "code",
   "execution_count": 29,
   "id": "d810d146",
   "metadata": {},
   "outputs": [],
   "source": [
    "bow_matrix = pd.DataFrame.sparse.from_spmatrix(bow, columns=vocabulario)"
   ]
  },
  {
   "cell_type": "code",
   "execution_count": 30,
   "id": "a9d0c7ed",
   "metadata": {},
   "outputs": [
    {
     "data": {
      "text/html": [
       "<div>\n",
       "<style scoped>\n",
       "    .dataframe tbody tr th:only-of-type {\n",
       "        vertical-align: middle;\n",
       "    }\n",
       "\n",
       "    .dataframe tbody tr th {\n",
       "        vertical-align: top;\n",
       "    }\n",
       "\n",
       "    .dataframe thead th {\n",
       "        text-align: right;\n",
       "    }\n",
       "</style>\n",
       "<table border=\"1\" class=\"dataframe\">\n",
       "  <thead>\n",
       "    <tr style=\"text-align: right;\">\n",
       "      <th></th>\n",
       "      <th>000</th>\n",
       "      <th>10</th>\n",
       "      <th>100</th>\n",
       "      <th>11</th>\n",
       "      <th>12</th>\n",
       "      <th>13</th>\n",
       "      <th>14</th>\n",
       "      <th>15</th>\n",
       "      <th>16</th>\n",
       "      <th>17</th>\n",
       "      <th>...</th>\n",
       "      <th>worth</th>\n",
       "      <th>would</th>\n",
       "      <th>wrong</th>\n",
       "      <th>year</th>\n",
       "      <th>years</th>\n",
       "      <th>yet</th>\n",
       "      <th>york</th>\n",
       "      <th>young</th>\n",
       "      <th>yukos</th>\n",
       "      <th>zealand</th>\n",
       "    </tr>\n",
       "  </thead>\n",
       "  <tbody>\n",
       "    <tr>\n",
       "      <th>0</th>\n",
       "      <td>1</td>\n",
       "      <td>0</td>\n",
       "      <td>0</td>\n",
       "      <td>0</td>\n",
       "      <td>0</td>\n",
       "      <td>0</td>\n",
       "      <td>0</td>\n",
       "      <td>0</td>\n",
       "      <td>0</td>\n",
       "      <td>0</td>\n",
       "      <td>...</td>\n",
       "      <td>0</td>\n",
       "      <td>0</td>\n",
       "      <td>0</td>\n",
       "      <td>0</td>\n",
       "      <td>2</td>\n",
       "      <td>1</td>\n",
       "      <td>0</td>\n",
       "      <td>0</td>\n",
       "      <td>0</td>\n",
       "      <td>0</td>\n",
       "    </tr>\n",
       "    <tr>\n",
       "      <th>1</th>\n",
       "      <td>1</td>\n",
       "      <td>0</td>\n",
       "      <td>0</td>\n",
       "      <td>0</td>\n",
       "      <td>0</td>\n",
       "      <td>0</td>\n",
       "      <td>0</td>\n",
       "      <td>0</td>\n",
       "      <td>0</td>\n",
       "      <td>0</td>\n",
       "      <td>...</td>\n",
       "      <td>0</td>\n",
       "      <td>0</td>\n",
       "      <td>0</td>\n",
       "      <td>0</td>\n",
       "      <td>0</td>\n",
       "      <td>0</td>\n",
       "      <td>0</td>\n",
       "      <td>0</td>\n",
       "      <td>0</td>\n",
       "      <td>0</td>\n",
       "    </tr>\n",
       "    <tr>\n",
       "      <th>2</th>\n",
       "      <td>0</td>\n",
       "      <td>0</td>\n",
       "      <td>0</td>\n",
       "      <td>0</td>\n",
       "      <td>0</td>\n",
       "      <td>0</td>\n",
       "      <td>0</td>\n",
       "      <td>0</td>\n",
       "      <td>0</td>\n",
       "      <td>0</td>\n",
       "      <td>...</td>\n",
       "      <td>0</td>\n",
       "      <td>2</td>\n",
       "      <td>0</td>\n",
       "      <td>0</td>\n",
       "      <td>0</td>\n",
       "      <td>0</td>\n",
       "      <td>0</td>\n",
       "      <td>0</td>\n",
       "      <td>0</td>\n",
       "      <td>0</td>\n",
       "    </tr>\n",
       "    <tr>\n",
       "      <th>3</th>\n",
       "      <td>0</td>\n",
       "      <td>0</td>\n",
       "      <td>0</td>\n",
       "      <td>0</td>\n",
       "      <td>0</td>\n",
       "      <td>0</td>\n",
       "      <td>0</td>\n",
       "      <td>0</td>\n",
       "      <td>0</td>\n",
       "      <td>0</td>\n",
       "      <td>...</td>\n",
       "      <td>0</td>\n",
       "      <td>0</td>\n",
       "      <td>0</td>\n",
       "      <td>0</td>\n",
       "      <td>0</td>\n",
       "      <td>0</td>\n",
       "      <td>0</td>\n",
       "      <td>0</td>\n",
       "      <td>0</td>\n",
       "      <td>0</td>\n",
       "    </tr>\n",
       "    <tr>\n",
       "      <th>4</th>\n",
       "      <td>0</td>\n",
       "      <td>0</td>\n",
       "      <td>0</td>\n",
       "      <td>0</td>\n",
       "      <td>0</td>\n",
       "      <td>0</td>\n",
       "      <td>0</td>\n",
       "      <td>0</td>\n",
       "      <td>0</td>\n",
       "      <td>0</td>\n",
       "      <td>...</td>\n",
       "      <td>0</td>\n",
       "      <td>0</td>\n",
       "      <td>0</td>\n",
       "      <td>0</td>\n",
       "      <td>0</td>\n",
       "      <td>0</td>\n",
       "      <td>1</td>\n",
       "      <td>0</td>\n",
       "      <td>0</td>\n",
       "      <td>0</td>\n",
       "    </tr>\n",
       "    <tr>\n",
       "      <th>...</th>\n",
       "      <td>...</td>\n",
       "      <td>...</td>\n",
       "      <td>...</td>\n",
       "      <td>...</td>\n",
       "      <td>...</td>\n",
       "      <td>...</td>\n",
       "      <td>...</td>\n",
       "      <td>...</td>\n",
       "      <td>...</td>\n",
       "      <td>...</td>\n",
       "      <td>...</td>\n",
       "      <td>...</td>\n",
       "      <td>...</td>\n",
       "      <td>...</td>\n",
       "      <td>...</td>\n",
       "      <td>...</td>\n",
       "      <td>...</td>\n",
       "      <td>...</td>\n",
       "      <td>...</td>\n",
       "      <td>...</td>\n",
       "      <td>...</td>\n",
       "    </tr>\n",
       "    <tr>\n",
       "      <th>2220</th>\n",
       "      <td>0</td>\n",
       "      <td>0</td>\n",
       "      <td>0</td>\n",
       "      <td>1</td>\n",
       "      <td>0</td>\n",
       "      <td>0</td>\n",
       "      <td>0</td>\n",
       "      <td>0</td>\n",
       "      <td>0</td>\n",
       "      <td>0</td>\n",
       "      <td>...</td>\n",
       "      <td>0</td>\n",
       "      <td>1</td>\n",
       "      <td>0</td>\n",
       "      <td>0</td>\n",
       "      <td>0</td>\n",
       "      <td>0</td>\n",
       "      <td>0</td>\n",
       "      <td>0</td>\n",
       "      <td>0</td>\n",
       "      <td>0</td>\n",
       "    </tr>\n",
       "    <tr>\n",
       "      <th>2221</th>\n",
       "      <td>2</td>\n",
       "      <td>0</td>\n",
       "      <td>0</td>\n",
       "      <td>0</td>\n",
       "      <td>0</td>\n",
       "      <td>0</td>\n",
       "      <td>1</td>\n",
       "      <td>0</td>\n",
       "      <td>0</td>\n",
       "      <td>0</td>\n",
       "      <td>...</td>\n",
       "      <td>0</td>\n",
       "      <td>1</td>\n",
       "      <td>0</td>\n",
       "      <td>2</td>\n",
       "      <td>0</td>\n",
       "      <td>0</td>\n",
       "      <td>0</td>\n",
       "      <td>0</td>\n",
       "      <td>0</td>\n",
       "      <td>0</td>\n",
       "    </tr>\n",
       "    <tr>\n",
       "      <th>2222</th>\n",
       "      <td>1</td>\n",
       "      <td>1</td>\n",
       "      <td>0</td>\n",
       "      <td>0</td>\n",
       "      <td>0</td>\n",
       "      <td>0</td>\n",
       "      <td>1</td>\n",
       "      <td>0</td>\n",
       "      <td>0</td>\n",
       "      <td>0</td>\n",
       "      <td>...</td>\n",
       "      <td>0</td>\n",
       "      <td>0</td>\n",
       "      <td>0</td>\n",
       "      <td>0</td>\n",
       "      <td>0</td>\n",
       "      <td>0</td>\n",
       "      <td>0</td>\n",
       "      <td>0</td>\n",
       "      <td>0</td>\n",
       "      <td>0</td>\n",
       "    </tr>\n",
       "    <tr>\n",
       "      <th>2223</th>\n",
       "      <td>1</td>\n",
       "      <td>0</td>\n",
       "      <td>0</td>\n",
       "      <td>0</td>\n",
       "      <td>0</td>\n",
       "      <td>0</td>\n",
       "      <td>0</td>\n",
       "      <td>0</td>\n",
       "      <td>0</td>\n",
       "      <td>0</td>\n",
       "      <td>...</td>\n",
       "      <td>1</td>\n",
       "      <td>2</td>\n",
       "      <td>1</td>\n",
       "      <td>0</td>\n",
       "      <td>0</td>\n",
       "      <td>0</td>\n",
       "      <td>0</td>\n",
       "      <td>0</td>\n",
       "      <td>0</td>\n",
       "      <td>0</td>\n",
       "    </tr>\n",
       "    <tr>\n",
       "      <th>2224</th>\n",
       "      <td>0</td>\n",
       "      <td>0</td>\n",
       "      <td>0</td>\n",
       "      <td>0</td>\n",
       "      <td>1</td>\n",
       "      <td>0</td>\n",
       "      <td>0</td>\n",
       "      <td>0</td>\n",
       "      <td>1</td>\n",
       "      <td>0</td>\n",
       "      <td>...</td>\n",
       "      <td>0</td>\n",
       "      <td>2</td>\n",
       "      <td>0</td>\n",
       "      <td>2</td>\n",
       "      <td>0</td>\n",
       "      <td>0</td>\n",
       "      <td>0</td>\n",
       "      <td>0</td>\n",
       "      <td>0</td>\n",
       "      <td>0</td>\n",
       "    </tr>\n",
       "  </tbody>\n",
       "</table>\n",
       "<p>2225 rows × 1000 columns</p>\n",
       "</div>"
      ],
      "text/plain": [
       "      000  10  100  11  12  13  14  15  16  17  ...  worth  would  wrong  \\\n",
       "0       1   0    0   0   0   0   0   0   0   0  ...      0      0      0   \n",
       "1       1   0    0   0   0   0   0   0   0   0  ...      0      0      0   \n",
       "2       0   0    0   0   0   0   0   0   0   0  ...      0      2      0   \n",
       "3       0   0    0   0   0   0   0   0   0   0  ...      0      0      0   \n",
       "4       0   0    0   0   0   0   0   0   0   0  ...      0      0      0   \n",
       "...   ...  ..  ...  ..  ..  ..  ..  ..  ..  ..  ...    ...    ...    ...   \n",
       "2220    0   0    0   1   0   0   0   0   0   0  ...      0      1      0   \n",
       "2221    2   0    0   0   0   0   1   0   0   0  ...      0      1      0   \n",
       "2222    1   1    0   0   0   0   1   0   0   0  ...      0      0      0   \n",
       "2223    1   0    0   0   0   0   0   0   0   0  ...      1      2      1   \n",
       "2224    0   0    0   0   1   0   0   0   1   0  ...      0      2      0   \n",
       "\n",
       "      year  years  yet  york  young  yukos  zealand  \n",
       "0        0      2    1     0      0      0        0  \n",
       "1        0      0    0     0      0      0        0  \n",
       "2        0      0    0     0      0      0        0  \n",
       "3        0      0    0     0      0      0        0  \n",
       "4        0      0    0     1      0      0        0  \n",
       "...    ...    ...  ...   ...    ...    ...      ...  \n",
       "2220     0      0    0     0      0      0        0  \n",
       "2221     2      0    0     0      0      0        0  \n",
       "2222     0      0    0     0      0      0        0  \n",
       "2223     0      0    0     0      0      0        0  \n",
       "2224     2      0    0     0      0      0        0  \n",
       "\n",
       "[2225 rows x 1000 columns]"
      ]
     },
     "execution_count": 30,
     "metadata": {},
     "output_type": "execute_result"
    }
   ],
   "source": [
    "bow_matrix"
   ]
  },
  {
   "cell_type": "markdown",
   "id": "bb732fc7",
   "metadata": {},
   "source": [
    "## Separar os conjuntos em treinamento e testes"
   ]
  },
  {
   "cell_type": "code",
   "execution_count": 31,
   "id": "654bccc5",
   "metadata": {},
   "outputs": [],
   "source": [
    "train_x, test_x, train_y, test_y = train_test_split(bow_matrix, noticias[\"category\"], random_state=50, test_size=0.25)"
   ]
  },
  {
   "cell_type": "code",
   "execution_count": 32,
   "id": "274ea1d1",
   "metadata": {},
   "outputs": [
    {
     "name": "stdout",
     "output_type": "stream",
     "text": [
      "train_x:  (1668, 1000)\n",
      "test_x:  (557, 1000)\n",
      "train_y:  (1668,)\n",
      "test_y:  (557,)\n"
     ]
    }
   ],
   "source": [
    "print(\"train_x: \", train_x.shape)\n",
    "print(\"test_x: \", test_x.shape)\n",
    "print(\"train_y: \", train_y.shape)\n",
    "print(\"test_y: \", test_y.shape)"
   ]
  },
  {
   "cell_type": "markdown",
   "id": "4bb39621",
   "metadata": {},
   "source": [
    "## Criar modelo aprendizagem de maquina"
   ]
  },
  {
   "cell_type": "code",
   "execution_count": 39,
   "id": "2f68e8a8",
   "metadata": {},
   "outputs": [],
   "source": [
    "# model = SVC(C=1.0, kernel='linear', degree=3, gamma='auto', random_state=50)\n",
    "# mode = SVC(decision_function_shape='ovr')\n",
    "#model = LogisticRegression()\n",
    "model = LinearSVC(random_state = 50)"
   ]
  },
  {
   "cell_type": "code",
   "execution_count": 40,
   "id": "6be361de",
   "metadata": {},
   "outputs": [
    {
     "name": "stderr",
     "output_type": "stream",
     "text": [
      "C:\\Users\\Antonio\\anaconda3\\Lib\\site-packages\\sklearn\\svm\\_classes.py:32: FutureWarning: The default value of `dual` will change from `True` to `'auto'` in 1.5. Set the value of `dual` explicitly to suppress the warning.\n",
      "  warnings.warn(\n",
      "C:\\Users\\Antonio\\anaconda3\\Lib\\site-packages\\sklearn\\svm\\_base.py:1242: ConvergenceWarning: Liblinear failed to converge, increase the number of iterations.\n",
      "  warnings.warn(\n"
     ]
    },
    {
     "data": {
      "text/html": [
       "<style>#sk-container-id-3 {color: black;}#sk-container-id-3 pre{padding: 0;}#sk-container-id-3 div.sk-toggleable {background-color: white;}#sk-container-id-3 label.sk-toggleable__label {cursor: pointer;display: block;width: 100%;margin-bottom: 0;padding: 0.3em;box-sizing: border-box;text-align: center;}#sk-container-id-3 label.sk-toggleable__label-arrow:before {content: \"▸\";float: left;margin-right: 0.25em;color: #696969;}#sk-container-id-3 label.sk-toggleable__label-arrow:hover:before {color: black;}#sk-container-id-3 div.sk-estimator:hover label.sk-toggleable__label-arrow:before {color: black;}#sk-container-id-3 div.sk-toggleable__content {max-height: 0;max-width: 0;overflow: hidden;text-align: left;background-color: #f0f8ff;}#sk-container-id-3 div.sk-toggleable__content pre {margin: 0.2em;color: black;border-radius: 0.25em;background-color: #f0f8ff;}#sk-container-id-3 input.sk-toggleable__control:checked~div.sk-toggleable__content {max-height: 200px;max-width: 100%;overflow: auto;}#sk-container-id-3 input.sk-toggleable__control:checked~label.sk-toggleable__label-arrow:before {content: \"▾\";}#sk-container-id-3 div.sk-estimator input.sk-toggleable__control:checked~label.sk-toggleable__label {background-color: #d4ebff;}#sk-container-id-3 div.sk-label input.sk-toggleable__control:checked~label.sk-toggleable__label {background-color: #d4ebff;}#sk-container-id-3 input.sk-hidden--visually {border: 0;clip: rect(1px 1px 1px 1px);clip: rect(1px, 1px, 1px, 1px);height: 1px;margin: -1px;overflow: hidden;padding: 0;position: absolute;width: 1px;}#sk-container-id-3 div.sk-estimator {font-family: monospace;background-color: #f0f8ff;border: 1px dotted black;border-radius: 0.25em;box-sizing: border-box;margin-bottom: 0.5em;}#sk-container-id-3 div.sk-estimator:hover {background-color: #d4ebff;}#sk-container-id-3 div.sk-parallel-item::after {content: \"\";width: 100%;border-bottom: 1px solid gray;flex-grow: 1;}#sk-container-id-3 div.sk-label:hover label.sk-toggleable__label {background-color: #d4ebff;}#sk-container-id-3 div.sk-serial::before {content: \"\";position: absolute;border-left: 1px solid gray;box-sizing: border-box;top: 0;bottom: 0;left: 50%;z-index: 0;}#sk-container-id-3 div.sk-serial {display: flex;flex-direction: column;align-items: center;background-color: white;padding-right: 0.2em;padding-left: 0.2em;position: relative;}#sk-container-id-3 div.sk-item {position: relative;z-index: 1;}#sk-container-id-3 div.sk-parallel {display: flex;align-items: stretch;justify-content: center;background-color: white;position: relative;}#sk-container-id-3 div.sk-item::before, #sk-container-id-3 div.sk-parallel-item::before {content: \"\";position: absolute;border-left: 1px solid gray;box-sizing: border-box;top: 0;bottom: 0;left: 50%;z-index: -1;}#sk-container-id-3 div.sk-parallel-item {display: flex;flex-direction: column;z-index: 1;position: relative;background-color: white;}#sk-container-id-3 div.sk-parallel-item:first-child::after {align-self: flex-end;width: 50%;}#sk-container-id-3 div.sk-parallel-item:last-child::after {align-self: flex-start;width: 50%;}#sk-container-id-3 div.sk-parallel-item:only-child::after {width: 0;}#sk-container-id-3 div.sk-dashed-wrapped {border: 1px dashed gray;margin: 0 0.4em 0.5em 0.4em;box-sizing: border-box;padding-bottom: 0.4em;background-color: white;}#sk-container-id-3 div.sk-label label {font-family: monospace;font-weight: bold;display: inline-block;line-height: 1.2em;}#sk-container-id-3 div.sk-label-container {text-align: center;}#sk-container-id-3 div.sk-container {/* jupyter's `normalize.less` sets `[hidden] { display: none; }` but bootstrap.min.css set `[hidden] { display: none !important; }` so we also need the `!important` here to be able to override the default hidden behavior on the sphinx rendered scikit-learn.org. See: https://github.com/scikit-learn/scikit-learn/issues/21755 */display: inline-block !important;position: relative;}#sk-container-id-3 div.sk-text-repr-fallback {display: none;}</style><div id=\"sk-container-id-3\" class=\"sk-top-container\"><div class=\"sk-text-repr-fallback\"><pre>LinearSVC(random_state=50)</pre><b>In a Jupyter environment, please rerun this cell to show the HTML representation or trust the notebook. <br />On GitHub, the HTML representation is unable to render, please try loading this page with nbviewer.org.</b></div><div class=\"sk-container\" hidden><div class=\"sk-item\"><div class=\"sk-estimator sk-toggleable\"><input class=\"sk-toggleable__control sk-hidden--visually\" id=\"sk-estimator-id-3\" type=\"checkbox\" checked><label for=\"sk-estimator-id-3\" class=\"sk-toggleable__label sk-toggleable__label-arrow\">LinearSVC</label><div class=\"sk-toggleable__content\"><pre>LinearSVC(random_state=50)</pre></div></div></div></div></div>"
      ],
      "text/plain": [
       "LinearSVC(random_state=50)"
      ]
     },
     "execution_count": 40,
     "metadata": {},
     "output_type": "execute_result"
    }
   ],
   "source": [
    "model.fit(train_x, train_y)"
   ]
  },
  {
   "cell_type": "code",
   "execution_count": 41,
   "id": "1a788c04",
   "metadata": {},
   "outputs": [
    {
     "data": {
      "text/plain": [
       "0.9605026929982047"
      ]
     },
     "execution_count": 41,
     "metadata": {},
     "output_type": "execute_result"
    }
   ],
   "source": [
    "model.score(test_x, test_y)"
   ]
  },
  {
   "cell_type": "code",
   "execution_count": 53,
   "id": "a956ea5d",
   "metadata": {},
   "outputs": [],
   "source": [
    "frase = \"explosions on israel affect many citizens\""
   ]
  },
  {
   "cell_type": "code",
   "execution_count": 54,
   "id": "4440d88a",
   "metadata": {},
   "outputs": [],
   "source": [
    "vetorizador2 = CountVectorizer(max_features=1000, vocabulary=vocabulario)\n",
    "novo_bow = vetorizador2.fit_transform( [frase] )"
   ]
  },
  {
   "cell_type": "code",
   "execution_count": 55,
   "id": "54f0ea27",
   "metadata": {},
   "outputs": [
    {
     "data": {
      "text/plain": [
       "(1, 1000)"
      ]
     },
     "execution_count": 55,
     "metadata": {},
     "output_type": "execute_result"
    }
   ],
   "source": [
    "novo_bow.shape"
   ]
  },
  {
   "cell_type": "code",
   "execution_count": 56,
   "id": "2cd72708",
   "metadata": {},
   "outputs": [
    {
     "data": {
      "text/plain": [
       "array(['sport'], dtype=object)"
      ]
     },
     "execution_count": 56,
     "metadata": {},
     "output_type": "execute_result"
    }
   ],
   "source": [
    "model.predict(novo_bow)"
   ]
  },
  {
   "cell_type": "code",
   "execution_count": null,
   "id": "30d02be6",
   "metadata": {},
   "outputs": [],
   "source": []
  }
 ],
 "metadata": {
  "kernelspec": {
   "display_name": "Python 3 (ipykernel)",
   "language": "python",
   "name": "python3"
  },
  "language_info": {
   "codemirror_mode": {
    "name": "ipython",
    "version": 3
   },
   "file_extension": ".py",
   "mimetype": "text/x-python",
   "name": "python",
   "nbconvert_exporter": "python",
   "pygments_lexer": "ipython3",
   "version": "3.11.4"
  }
 },
 "nbformat": 4,
 "nbformat_minor": 5
}
