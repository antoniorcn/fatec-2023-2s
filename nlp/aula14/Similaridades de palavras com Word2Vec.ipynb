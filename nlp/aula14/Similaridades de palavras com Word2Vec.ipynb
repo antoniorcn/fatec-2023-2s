{
 "cells": [
  {
   "cell_type": "code",
   "execution_count": 1,
   "id": "9c29b2bc",
   "metadata": {},
   "outputs": [],
   "source": [
    "# !python -m pip install gensim"
   ]
  },
  {
   "cell_type": "code",
   "execution_count": 2,
   "id": "01571850",
   "metadata": {},
   "outputs": [],
   "source": [
    "from gensim.models import Word2Vec, KeyedVectors"
   ]
  },
  {
   "cell_type": "code",
   "execution_count": 17,
   "id": "c51fc954",
   "metadata": {},
   "outputs": [],
   "source": [
    "import numpy as np"
   ]
  },
  {
   "cell_type": "code",
   "execution_count": 3,
   "id": "0dfcdee2",
   "metadata": {},
   "outputs": [],
   "source": [
    "modelo = KeyedVectors.load_word2vec_format(\"C:/Users/Antonio/Downloads/en_wiki_word2vec_300/en_wiki_word2vec_300.txt\")"
   ]
  },
  {
   "cell_type": "code",
   "execution_count": 7,
   "id": "aa7556d0",
   "metadata": {},
   "outputs": [
    {
     "name": "stdout",
     "output_type": "stream",
     "text": [
      "Palavra não existe\n"
     ]
    }
   ],
   "source": [
    "try: \n",
    "    modelo[\"abobrinha\"]\n",
    "except KeyError:\n",
    "    print(\"Palavra não existe\")"
   ]
  },
  {
   "cell_type": "code",
   "execution_count": 15,
   "id": "8feb10c6",
   "metadata": {},
   "outputs": [
    {
     "data": {
      "text/plain": [
       "0.0993817"
      ]
     },
     "execution_count": 15,
     "metadata": {},
     "output_type": "execute_result"
    }
   ],
   "source": [
    "modelo.similarity(\"airplane\", \"ferrari\")"
   ]
  },
  {
   "cell_type": "code",
   "execution_count": 16,
   "id": "c5f5df63",
   "metadata": {},
   "outputs": [
    {
     "data": {
      "text/plain": [
       "[('airliner', 0.7552747130393982),\n",
       " ('aeroplane', 0.7190523147583008),\n",
       " ('airplanes', 0.7073448300361633),\n",
       " ('helicopter', 0.6877748966217041),\n",
       " ('aircraft', 0.6640554070472717),\n",
       " ('plane', 0.6602808833122253),\n",
       " ('airship', 0.6530982851982117),\n",
       " ('trimotor', 0.640124499797821),\n",
       " ('gyrocopter', 0.6386385560035706),\n",
       " ('jetliner', 0.6308403611183167)]"
      ]
     },
     "execution_count": 16,
     "metadata": {},
     "output_type": "execute_result"
    }
   ],
   "source": [
    "modelo.most_similar(\"airplane\")"
   ]
  },
  {
   "cell_type": "code",
   "execution_count": 24,
   "id": "43412e8b",
   "metadata": {},
   "outputs": [],
   "source": [
    "palavra = np.zeros(300)"
   ]
  },
  {
   "cell_type": "code",
   "execution_count": 25,
   "id": "a7a83324",
   "metadata": {},
   "outputs": [],
   "source": [
    "palavra = palavra + modelo[\"doctor\"]"
   ]
  },
  {
   "cell_type": "code",
   "execution_count": 26,
   "id": "5dc9169d",
   "metadata": {},
   "outputs": [],
   "source": [
    "palavra = palavra + modelo[\"tooth\"]"
   ]
  },
  {
   "cell_type": "code",
   "execution_count": 27,
   "id": "3e3c3972",
   "metadata": {},
   "outputs": [
    {
     "data": {
      "text/plain": [
       "[('tooth', 0.7953046560287476),\n",
       " ('doctor', 0.7281282544136047),\n",
       " ('teeth', 0.6010338664054871),\n",
       " ('dental', 0.5766680836677551),\n",
       " ('dentist', 0.5675336718559265),\n",
       " ('skull', 0.5590323209762573),\n",
       " ('bones', 0.5533870458602905),\n",
       " ('mandibular', 0.5510057806968689),\n",
       " ('incisor', 0.5471882820129395),\n",
       " ('premolar', 0.5337839126586914)]"
      ]
     },
     "execution_count": 27,
     "metadata": {},
     "output_type": "execute_result"
    }
   ],
   "source": [
    "modelo.most_similar(palavra)"
   ]
  },
  {
   "cell_type": "code",
   "execution_count": 28,
   "id": "e6db8e36",
   "metadata": {},
   "outputs": [
    {
     "data": {
      "text/plain": [
       "[('queen', 0.6688153743743896),\n",
       " ('princess', 0.552842915058136),\n",
       " ('prince', 0.5264531970024109),\n",
       " ('nanasipau', 0.4919755756855011),\n",
       " ('maathorneferure', 0.49078336358070374),\n",
       " ('regnant', 0.49029964208602905),\n",
       " ('chandrmondol', 0.4897799491882324),\n",
       " ('regent', 0.48750442266464233),\n",
       " ('crown', 0.4872990548610687),\n",
       " ('elizabeth', 0.48600274324417114)]"
      ]
     },
     "execution_count": 28,
     "metadata": {},
     "output_type": "execute_result"
    }
   ],
   "source": [
    "modelo.most_similar(positive=[\"king\", \"woman\"], negative=[\"man\"])"
   ]
  },
  {
   "cell_type": "code",
   "execution_count": 46,
   "id": "46583bc7",
   "metadata": {},
   "outputs": [],
   "source": [
    "frase = \"gaza soldiers israel turn many citizens homeless\""
   ]
  },
  {
   "cell_type": "code",
   "execution_count": 47,
   "id": "61c3631c",
   "metadata": {},
   "outputs": [],
   "source": [
    "tokens = frase.split(\" \")"
   ]
  },
  {
   "cell_type": "code",
   "execution_count": 48,
   "id": "22207ba0",
   "metadata": {},
   "outputs": [],
   "source": [
    "palavra_resumo = np.zeros(300)"
   ]
  },
  {
   "cell_type": "code",
   "execution_count": 49,
   "id": "d1362226",
   "metadata": {},
   "outputs": [],
   "source": [
    "for token in tokens:\n",
    "    palavra_resumo += modelo[token]"
   ]
  },
  {
   "cell_type": "code",
   "execution_count": 50,
   "id": "91a5c292",
   "metadata": {},
   "outputs": [
    {
     "data": {
      "text/plain": [
       "[('citizens', 0.698280930519104),\n",
       " ('soldiers', 0.6912674903869629),\n",
       " ('palestinians', 0.6854298114776611),\n",
       " ('israelis', 0.6636697053909302),\n",
       " ('residents', 0.6636466383934021),\n",
       " ('refugees', 0.6617241501808167),\n",
       " ('gazans', 0.6608524322509766),\n",
       " ('gaza', 0.6503357887268066),\n",
       " ('palestinian', 0.6466675400733948),\n",
       " ('israel', 0.639775276184082)]"
      ]
     },
     "execution_count": 50,
     "metadata": {},
     "output_type": "execute_result"
    }
   ],
   "source": [
    "modelo.most_similar(palavra_resumo)"
   ]
  },
  {
   "cell_type": "code",
   "execution_count": 53,
   "id": "d154dc17",
   "metadata": {},
   "outputs": [
    {
     "data": {
      "text/plain": [
       "'brazil'"
      ]
     },
     "execution_count": 53,
     "metadata": {},
     "output_type": "execute_result"
    }
   ],
   "source": [
    "modelo.doesnt_match(['soldier', 'gun', 'war', 'bullet', 'bomb', 'brazil', 'explosion'])"
   ]
  },
  {
   "cell_type": "code",
   "execution_count": null,
   "id": "2980132a",
   "metadata": {},
   "outputs": [],
   "source": []
  }
 ],
 "metadata": {
  "kernelspec": {
   "display_name": "Python 3 (ipykernel)",
   "language": "python",
   "name": "python3"
  },
  "language_info": {
   "codemirror_mode": {
    "name": "ipython",
    "version": 3
   },
   "file_extension": ".py",
   "mimetype": "text/x-python",
   "name": "python",
   "nbconvert_exporter": "python",
   "pygments_lexer": "ipython3",
   "version": "3.11.4"
  }
 },
 "nbformat": 4,
 "nbformat_minor": 5
}
