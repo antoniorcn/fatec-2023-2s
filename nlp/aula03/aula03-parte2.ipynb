{
 "cells": [
  {
   "cell_type": "code",
   "execution_count": 1,
   "id": "4004118e",
   "metadata": {},
   "outputs": [],
   "source": [
    "from string import punctuation\n",
    "import nltk"
   ]
  },
  {
   "cell_type": "code",
   "execution_count": null,
   "id": "2c9c4773",
   "metadata": {},
   "outputs": [],
   "source": []
  },
  {
   "cell_type": "code",
   "execution_count": 22,
   "id": "c991e35d",
   "metadata": {},
   "outputs": [],
   "source": [
    "arquivo = open(\"ola.txt\", \"r+\")"
   ]
  },
  {
   "cell_type": "code",
   "execution_count": 23,
   "id": "b0dce5b0",
   "metadata": {},
   "outputs": [
    {
     "data": {
      "text/plain": [
       "'Ola m'"
      ]
     },
     "execution_count": 23,
     "metadata": {},
     "output_type": "execute_result"
    }
   ],
   "source": [
    "arquivo.read(5)"
   ]
  },
  {
   "cell_type": "code",
   "execution_count": 24,
   "id": "ef1d71db",
   "metadata": {},
   "outputs": [
    {
     "data": {
      "text/plain": [
       "13"
      ]
     },
     "execution_count": 24,
     "metadata": {},
     "output_type": "execute_result"
    }
   ],
   "source": [
    "arquivo.write(\"Texto no meio\")"
   ]
  },
  {
   "cell_type": "code",
   "execution_count": 25,
   "id": "ce1c3ffa",
   "metadata": {},
   "outputs": [],
   "source": [
    "letra = None"
   ]
  },
  {
   "cell_type": "code",
   "execution_count": 26,
   "id": "b5ae923a",
   "metadata": {},
   "outputs": [],
   "source": [
    "while letra != \"\":\n",
    "    letra = arquivo.read(1)\n",
    "    if letra != \"\":\n",
    "        print(letra)"
   ]
  },
  {
   "cell_type": "code",
   "execution_count": null,
   "id": "58ecb94a",
   "metadata": {},
   "outputs": [],
   "source": []
  },
  {
   "cell_type": "code",
   "execution_count": 27,
   "id": "cdefc0c7",
   "metadata": {},
   "outputs": [],
   "source": [
    "arquivo.close()"
   ]
  },
  {
   "cell_type": "code",
   "execution_count": 3,
   "id": "57a02a89",
   "metadata": {},
   "outputs": [],
   "source": [
    "especiais = ['\\n']\n",
    "texto_filtrado = \"\"\n",
    "for charactere in texto:\n",
    "    if charactere not in punctuation:\n",
    "        if charactere in especiais:\n",
    "            texto_filtrado += ' '\n",
    "        else:\n",
    "            texto_filtrado += charactere"
   ]
  },
  {
   "cell_type": "code",
   "execution_count": 4,
   "id": "665ec37b",
   "metadata": {},
   "outputs": [],
   "source": [
    "tokens = texto_filtrado.split(\" \")\n",
    "\n",
    "stopwords = nltk.corpus.stopwords.words('portuguese')"
   ]
  },
  {
   "cell_type": "code",
   "execution_count": 5,
   "id": "6fa57db8",
   "metadata": {},
   "outputs": [],
   "source": [
    "token_sem_stop_words = []\n",
    "\n",
    "for token in tokens:\n",
    "    nova_token = token.lower().strip()\n",
    "    if nova_token != '' and nova_token not in stopwords:\n",
    "        token_sem_stop_words.append(nova_token)"
   ]
  }
 ],
 "metadata": {
  "kernelspec": {
   "display_name": "Python 3 (ipykernel)",
   "language": "python",
   "name": "python3"
  },
  "language_info": {
   "codemirror_mode": {
    "name": "ipython",
    "version": 3
   },
   "file_extension": ".py",
   "mimetype": "text/x-python",
   "name": "python",
   "nbconvert_exporter": "python",
   "pygments_lexer": "ipython3",
   "version": "3.11.4"
  }
 },
 "nbformat": 4,
 "nbformat_minor": 5
}
