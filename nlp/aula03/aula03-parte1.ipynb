{
 "cells": [
  {
   "cell_type": "code",
   "execution_count": 1,
   "id": "4004118e",
   "metadata": {},
   "outputs": [],
   "source": [
    "from string import punctuation\n",
    "import nltk"
   ]
  },
  {
   "cell_type": "code",
   "execution_count": 2,
   "id": "c991e35d",
   "metadata": {},
   "outputs": [],
   "source": [
    "texto = \"\"\"\n",
    "Provinciano que nunca soube\n",
    "Escolher bem uma gravata;\n",
    "Pernambucano a quem repugna\n",
    "A faca do pernambucano;\n",
    "Poeta ruim que na arte da prosa\n",
    "Envelheceu na infância da arte,\n",
    "E até mesmo escrevendo crônicas\n",
    "Ficou cronista de província;\n",
    "Arquiteto falhado, músico\n",
    "Falhado (engoliu um dia\n",
    "Um piano, mas o teclado\n",
    "Ficou de fora); sem família,\n",
    "Religião ou filosofia;\n",
    "Mal tendo a inquietação de espírito\n",
    "Que vem do sobrenatural,\n",
    "E em matéria de profissão\n",
    "Um tísico profissional.\n",
    "\"\"\""
   ]
  },
  {
   "cell_type": "code",
   "execution_count": 3,
   "id": "57a02a89",
   "metadata": {},
   "outputs": [],
   "source": [
    "especiais = ['\\n']\n",
    "texto_filtrado = \"\"\n",
    "for charactere in texto:\n",
    "    if charactere not in punctuation:\n",
    "        if charactere in especiais:\n",
    "            texto_filtrado += ' '\n",
    "        else:\n",
    "            texto_filtrado += charactere"
   ]
  },
  {
   "cell_type": "code",
   "execution_count": 4,
   "id": "665ec37b",
   "metadata": {},
   "outputs": [],
   "source": [
    "tokens = texto_filtrado.split(\" \")\n",
    "\n",
    "stopwords = nltk.corpus.stopwords.words('portuguese')"
   ]
  },
  {
   "cell_type": "code",
   "execution_count": 5,
   "id": "6fa57db8",
   "metadata": {},
   "outputs": [],
   "source": [
    "token_sem_stop_words = []\n",
    "\n",
    "for token in tokens:\n",
    "    nova_token = token.lower().strip()\n",
    "    if nova_token != '' and nova_token not in stopwords:\n",
    "        token_sem_stop_words.append(nova_token)"
   ]
  },
  {
   "cell_type": "code",
   "execution_count": 6,
   "id": "33c62029",
   "metadata": {},
   "outputs": [
    {
     "data": {
      "text/plain": [
       "['provinciano',\n",
       " 'nunca',\n",
       " 'soube',\n",
       " 'escolher',\n",
       " 'bem',\n",
       " 'gravata',\n",
       " 'pernambucano',\n",
       " 'repugna',\n",
       " 'faca',\n",
       " 'pernambucano',\n",
       " 'poeta',\n",
       " 'ruim',\n",
       " 'arte',\n",
       " 'prosa',\n",
       " 'envelheceu',\n",
       " 'infância',\n",
       " 'arte',\n",
       " 'escrevendo',\n",
       " 'crônicas',\n",
       " 'ficou',\n",
       " 'cronista',\n",
       " 'província',\n",
       " 'arquiteto',\n",
       " 'falhado',\n",
       " 'músico',\n",
       " 'falhado',\n",
       " 'engoliu',\n",
       " 'dia',\n",
       " 'piano',\n",
       " 'teclado',\n",
       " 'ficou',\n",
       " 'família',\n",
       " 'religião',\n",
       " 'filosofia',\n",
       " 'mal',\n",
       " 'tendo',\n",
       " 'inquietação',\n",
       " 'espírito',\n",
       " 'vem',\n",
       " 'sobrenatural',\n",
       " 'matéria',\n",
       " 'profissão',\n",
       " 'tísico',\n",
       " 'profissional']"
      ]
     },
     "execution_count": 6,
     "metadata": {},
     "output_type": "execute_result"
    }
   ],
   "source": [
    "token_sem_stop_words"
   ]
  },
  {
   "cell_type": "code",
   "execution_count": 7,
   "id": "cff39688",
   "metadata": {},
   "outputs": [],
   "source": [
    "bag_of_words = dict()"
   ]
  },
  {
   "cell_type": "code",
   "execution_count": 8,
   "id": "efd91fca",
   "metadata": {},
   "outputs": [
    {
     "data": {
      "text/plain": [
       "3"
      ]
     },
     "execution_count": 8,
     "metadata": {},
     "output_type": "execute_result"
    }
   ],
   "source": [
    "texto.count(\"que\")"
   ]
  },
  {
   "cell_type": "code",
   "execution_count": 11,
   "id": "f7de282c",
   "metadata": {},
   "outputs": [],
   "source": [
    "texto_minusculo = texto.lower()\n",
    "for palavra in token_sem_stop_words:\n",
    "    bag_of_words[palavra] = texto_minusculo.count(palavra)"
   ]
  },
  {
   "cell_type": "code",
   "execution_count": 12,
   "id": "f9810143",
   "metadata": {},
   "outputs": [
    {
     "data": {
      "text/plain": [
       "{'provinciano': 1,\n",
       " 'nunca': 1,\n",
       " 'soube': 1,\n",
       " 'escolher': 1,\n",
       " 'bem': 1,\n",
       " 'gravata': 1,\n",
       " 'pernambucano': 2,\n",
       " 'repugna': 1,\n",
       " 'faca': 1,\n",
       " 'poeta': 1,\n",
       " 'ruim': 1,\n",
       " 'arte': 2,\n",
       " 'prosa': 1,\n",
       " 'envelheceu': 1,\n",
       " 'infância': 1,\n",
       " 'escrevendo': 1,\n",
       " 'crônicas': 1,\n",
       " 'ficou': 2,\n",
       " 'cronista': 1,\n",
       " 'província': 1,\n",
       " 'arquiteto': 1,\n",
       " 'falhado': 2,\n",
       " 'músico': 1,\n",
       " 'engoliu': 1,\n",
       " 'dia': 1,\n",
       " 'piano': 1,\n",
       " 'teclado': 1,\n",
       " 'família': 1,\n",
       " 'religião': 1,\n",
       " 'filosofia': 1,\n",
       " 'mal': 1,\n",
       " 'tendo': 1,\n",
       " 'inquietação': 1,\n",
       " 'espírito': 1,\n",
       " 'vem': 1,\n",
       " 'sobrenatural': 1,\n",
       " 'matéria': 1,\n",
       " 'profissão': 1,\n",
       " 'tísico': 1,\n",
       " 'profissional': 1}"
      ]
     },
     "execution_count": 12,
     "metadata": {},
     "output_type": "execute_result"
    }
   ],
   "source": [
    "bag_of_words"
   ]
  },
  {
   "cell_type": "code",
   "execution_count": null,
   "id": "b9d73e1e",
   "metadata": {},
   "outputs": [],
   "source": []
  }
 ],
 "metadata": {
  "kernelspec": {
   "display_name": "Python 3 (ipykernel)",
   "language": "python",
   "name": "python3"
  },
  "language_info": {
   "codemirror_mode": {
    "name": "ipython",
    "version": 3
   },
   "file_extension": ".py",
   "mimetype": "text/x-python",
   "name": "python",
   "nbconvert_exporter": "python",
   "pygments_lexer": "ipython3",
   "version": "3.11.4"
  }
 },
 "nbformat": 4,
 "nbformat_minor": 5
}
